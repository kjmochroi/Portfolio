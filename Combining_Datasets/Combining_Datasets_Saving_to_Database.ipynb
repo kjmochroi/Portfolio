{
 "cells": [
  {
   "cell_type": "markdown",
   "id": "afb44e52",
   "metadata": {},
   "source": [
    "# Combining Datasets and Saving them to a Database File\n",
    "\n",
    "***KJ MoChroi  \n",
    "DSC 540 Fall 2022  \n",
    "Bellevue University***"
   ]
  },
  {
   "cell_type": "markdown",
   "id": "b3a2d144",
   "metadata": {},
   "source": [
    "**Change Control Log:**  \n",
    "\n",
    "Change#: 1  \n",
    "Change(s) Made:  Imported data from three sources and cleaned it.  \n",
    "Date of Change:  11/16/2022  \n",
    "Author: Karlie Schwartzwald  \n",
    "Change Approved by: Karlie Schwartzwald  \n",
    "Date Moved to Production: 11/19/2022  \n",
    "\n",
    "Change#: 2  \n",
    "Change(s) Made:  Converted dataframes to tables in SQL database and merged those tables.  \n",
    "Date of Change:  11/17/2022  \n",
    "Author: Karlie Schwartzwald  \n",
    "Change Approved by: Karlie Schwartzwald  \n",
    "Date Moved to Production: 11/19/2022  \n",
    "\n",
    "Change#: 3  \n",
    "Change(s) Made:  produced visualizations.  \n",
    "Date of Change:  11/17/2022  \n",
    "Author: Karlie Schwartzwald  \n",
    "Change Approved by: Karlie Schwartzwald  \n",
    "Date Moved to Production: 11/19/2022  \n",
    "\n",
    "Change#: 4  \n",
    "Change(s) Made:  Completed Write-up.  \n",
    "Date of Change:  11/17/2022  \n",
    "Author: Karlie Schwartzwald  \n",
    "Change Approved by: Karlie Schwartzwald  \n",
    "Date Moved to Production: 11/19/2022  "
   ]
  },
  {
   "cell_type": "markdown",
   "id": "275556f8",
   "metadata": {},
   "source": [
    "## API Data"
   ]
  },
  {
   "cell_type": "code",
   "execution_count": 1,
   "id": "74156d5d",
   "metadata": {},
   "outputs": [],
   "source": [
    "# Libraries\n",
    "import pandas as pd\n",
    "import numpy as np\n",
    "import matplotlib.pyplot as plt\n",
    "import requests"
   ]
  },
  {
   "cell_type": "code",
   "execution_count": 2,
   "id": "fa00aaf4",
   "metadata": {},
   "outputs": [
    {
     "name": "stdout",
     "output_type": "stream",
     "text": [
      "200\n"
     ]
    }
   ],
   "source": [
    "# See if we can connect to API\n",
    "response = requests.get(\"https://world-happiness-database.herokuapp.com/api/happiness\")\n",
    "print(response.status_code)"
   ]
  },
  {
   "cell_type": "code",
   "execution_count": 3,
   "id": "00f51e27",
   "metadata": {},
   "outputs": [],
   "source": [
    "# Extract Data from the Request using the Json() Method\n",
    "json = response.json()"
   ]
  },
  {
   "cell_type": "code",
   "execution_count": 4,
   "id": "0513620e",
   "metadata": {},
   "outputs": [],
   "source": [
    "# Turn json into dataframe\n",
    "api_df = pd.DataFrame(json)"
   ]
  },
  {
   "cell_type": "code",
   "execution_count": 5,
   "id": "a61e782a",
   "metadata": {},
   "outputs": [],
   "source": [
    "# Drop columns\n",
    "api_df = api_df[['country', 'happiness']]"
   ]
  },
  {
   "cell_type": "code",
   "execution_count": 6,
   "id": "123bcefc",
   "metadata": {},
   "outputs": [],
   "source": [
    "# Rename columns\n",
    "api_df.columns = ['Country', 'Happiness']"
   ]
  },
  {
   "cell_type": "code",
   "execution_count": 7,
   "id": "a4f9897f",
   "metadata": {},
   "outputs": [],
   "source": [
    "# sort alphabetically by Country\n",
    "api_df.sort_values('Country', inplace=True)"
   ]
  },
  {
   "cell_type": "code",
   "execution_count": 8,
   "id": "37461215",
   "metadata": {},
   "outputs": [],
   "source": [
    "# Alter names of countries so tables can join\n",
    "api_df[\"Country\"]= api_df[\"Country\"].replace(\"Czech Republic\",\"Czechia\")"
   ]
  },
  {
   "cell_type": "code",
   "execution_count": 9,
   "id": "a8d51649",
   "metadata": {},
   "outputs": [],
   "source": [
    "api_df[\"Country\"]= api_df[\"Country\"].replace(\"Palestinian Territories\",\"Palestine\")"
   ]
  },
  {
   "cell_type": "markdown",
   "id": "6fa9f9ad",
   "metadata": {},
   "source": [
    "## HTML Data"
   ]
  },
  {
   "cell_type": "code",
   "execution_count": 10,
   "id": "23126cfd",
   "metadata": {},
   "outputs": [],
   "source": [
    "# Libraries\n",
    "from bs4 import BeautifulSoup"
   ]
  },
  {
   "cell_type": "code",
   "execution_count": 11,
   "id": "601548a4",
   "metadata": {},
   "outputs": [],
   "source": [
    "# Create an URL object\n",
    "url = 'https://en.wikipedia.org/wiki/List_of_countries_by_GDP_(nominal)'"
   ]
  },
  {
   "cell_type": "code",
   "execution_count": 12,
   "id": "2bde5948",
   "metadata": {},
   "outputs": [],
   "source": [
    "# Create object page\n",
    "page = requests.get(url)"
   ]
  },
  {
   "cell_type": "code",
   "execution_count": 13,
   "id": "12d83965",
   "metadata": {},
   "outputs": [],
   "source": [
    "# parser-lxml = Change html to Python friendly format\n",
    "# Obtain page's information\n",
    "soup = BeautifulSoup(page.text, 'lxml')"
   ]
  },
  {
   "cell_type": "code",
   "execution_count": 14,
   "id": "18abff0d",
   "metadata": {},
   "outputs": [],
   "source": [
    "table = soup.find(\"table\", {\"class\": \"wikitable\"})"
   ]
  },
  {
   "cell_type": "code",
   "execution_count": 15,
   "id": "cba220e6",
   "metadata": {},
   "outputs": [],
   "source": [
    "# Obtain column names with tag <th>\n",
    "headers = []\n",
    "for i in table.find_all('th'):\n",
    "    title = i.text\n",
    "    headers.append(title)"
   ]
  },
  {
   "cell_type": "code",
   "execution_count": 16,
   "id": "291b603d",
   "metadata": {},
   "outputs": [],
   "source": [
    "headers = ['Country',\n",
    " 'UN Region',\n",
    " 'IMF Estimate',\n",
    "'IMF Year',\n",
    " 'World Bank Estimate',\n",
    "'World Bank Year',\n",
    " 'United Nations Estimate',\n",
    "'United Nations Year'\n",
    "]\n",
    "# The previous headers didn't make sense because of the way the cells are merged on the original table."
   ]
  },
  {
   "cell_type": "code",
   "execution_count": 17,
   "id": "0ccb2dee",
   "metadata": {
    "scrolled": true
   },
   "outputs": [],
   "source": [
    "# Turn table into a dataframe for easier reading.\n",
    "html_df = pd.DataFrame(columns = headers)"
   ]
  },
  {
   "cell_type": "code",
   "execution_count": 18,
   "id": "0c0e87b2",
   "metadata": {
    "scrolled": false
   },
   "outputs": [],
   "source": [
    "# Create a for loop to fill dataframe\n",
    "for j in table.find_all('tr')[3:]:\n",
    "    row_data= j.find_all('td')\n",
    "    row = [i.text for i in row_data]\n",
    "    holder = []\n",
    "    for item in row:\n",
    "        holder.append(item)\n",
    "        if item == '—' or item == '—\\n':\n",
    "            holder.append('—')  # This is for rows with merged cells on webpage\n",
    "    length = len(html_df)\n",
    "    html_df.loc[length] = holder"
   ]
  },
  {
   "cell_type": "code",
   "execution_count": 19,
   "id": "3a9f8c77",
   "metadata": {},
   "outputs": [],
   "source": [
    "html_df.drop(['IMF Year', 'World Bank Year', 'United Nations Year'], axis=1, inplace=True)"
   ]
  },
  {
   "cell_type": "code",
   "execution_count": 20,
   "id": "2ac7a125",
   "metadata": {},
   "outputs": [],
   "source": [
    "# Remove sepcial characters\n",
    "html_df['IMF Estimate'] = html_df['IMF Estimate'].str.replace('\\W', '', regex=True)\n",
    "html_df['World Bank Estimate'] = html_df['World Bank Estimate'].str.replace('\\W', '', regex=True)\n",
    "html_df['United Nations Estimate'] = html_df['United Nations Estimate'].str.replace('\\W', '', regex=True)"
   ]
  },
  {
   "cell_type": "code",
   "execution_count": 21,
   "id": "266d7f27",
   "metadata": {},
   "outputs": [],
   "source": [
    "# convert estimates to numbers\n",
    "html_df['IMF Estimate'] = pd.to_numeric(html_df['IMF Estimate'], errors='coerce')\n",
    "html_df['World Bank Estimate'] = pd.to_numeric(html_df['World Bank Estimate'], errors='coerce')\n",
    "html_df['United Nations Estimate'] = pd.to_numeric(html_df['United Nations Estimate'], errors='coerce')"
   ]
  },
  {
   "cell_type": "code",
   "execution_count": 22,
   "id": "ab784fae",
   "metadata": {},
   "outputs": [],
   "source": [
    "# create new data column\n",
    "html_df['Mean_GDP'] = html_df[['IMF Estimate', 'World Bank Estimate', 'United Nations Estimate']].mean(axis='columns')"
   ]
  },
  {
   "cell_type": "code",
   "execution_count": 23,
   "id": "4d471bf2",
   "metadata": {
    "scrolled": true
   },
   "outputs": [],
   "source": [
    "# drop columns\n",
    "html_df = html_df[['Country', 'Mean_GDP']]"
   ]
  },
  {
   "cell_type": "code",
   "execution_count": 24,
   "id": "c150111d",
   "metadata": {},
   "outputs": [],
   "source": [
    "# sort alphabetically by Country\n",
    "html_df.sort_values('Country', inplace=True)"
   ]
  },
  {
   "cell_type": "code",
   "execution_count": 25,
   "id": "c5bbe77f",
   "metadata": {},
   "outputs": [],
   "source": [
    "html_df[\"Country\"]= html_df[\"Country\"].replace(\"\\xa0\",\"\") \n",
    "# Even after doing this step, these characters still show up in the SQL database after conversion"
   ]
  },
  {
   "cell_type": "markdown",
   "id": "04752359",
   "metadata": {},
   "source": [
    "## Flat File Data"
   ]
  },
  {
   "cell_type": "code",
   "execution_count": 26,
   "id": "37f2764f",
   "metadata": {},
   "outputs": [],
   "source": [
    "GDI_df = pd.read_csv('GDI.csv')"
   ]
  },
  {
   "cell_type": "code",
   "execution_count": 27,
   "id": "d3b3236f",
   "metadata": {},
   "outputs": [],
   "source": [
    "# Drop unnecesary columns\n",
    "GDI_df = GDI_df[['Country', 'GDI_Value', 'Lif_Expec_Female', 'Lif_Excep_Male']]"
   ]
  },
  {
   "cell_type": "code",
   "execution_count": 28,
   "id": "c9141708",
   "metadata": {
    "scrolled": true
   },
   "outputs": [
    {
     "data": {
      "text/plain": [
       "22"
      ]
     },
     "execution_count": 28,
     "metadata": {},
     "output_type": "execute_result"
    }
   ],
   "source": [
    "# Convert columns to numerical and replace strings with NaN\n",
    "GDI_df['GDI_Value'] = GDI_df['GDI_Value'].apply(lambda x: pd.to_numeric(x, errors='coerce'))\n",
    "GDI_df['GDI_Value'].isna().sum()"
   ]
  },
  {
   "cell_type": "code",
   "execution_count": 29,
   "id": "85b2fd15",
   "metadata": {},
   "outputs": [
    {
     "data": {
      "text/plain": [
       "6"
      ]
     },
     "execution_count": 29,
     "metadata": {},
     "output_type": "execute_result"
    }
   ],
   "source": [
    "GDI_df['Lif_Expec_Female'] = GDI_df['Lif_Expec_Female'].apply(lambda x: pd.to_numeric(x, errors='coerce'))\n",
    "GDI_df['Lif_Expec_Female'].isna().sum()"
   ]
  },
  {
   "cell_type": "code",
   "execution_count": 30,
   "id": "e8428f68",
   "metadata": {},
   "outputs": [
    {
     "data": {
      "text/plain": [
       "6"
      ]
     },
     "execution_count": 30,
     "metadata": {},
     "output_type": "execute_result"
    }
   ],
   "source": [
    "GDI_df['Lif_Excep_Male'] = GDI_df['Lif_Excep_Male'].apply(lambda x: pd.to_numeric(x, errors='coerce'))\n",
    "GDI_df['Lif_Excep_Male'].isna().sum()"
   ]
  },
  {
   "cell_type": "code",
   "execution_count": 31,
   "id": "27a8d5e4",
   "metadata": {},
   "outputs": [],
   "source": [
    "# Remove new NaN values from tables\n",
    "GDI_df = GDI_df.dropna()"
   ]
  },
  {
   "cell_type": "code",
   "execution_count": 32,
   "id": "0cadef1b",
   "metadata": {
    "scrolled": true
   },
   "outputs": [],
   "source": [
    "# sort alphabetically by Country\n",
    "GDI_df.sort_values('Country', inplace=True)"
   ]
  },
  {
   "cell_type": "code",
   "execution_count": 33,
   "id": "a3d77dd1",
   "metadata": {},
   "outputs": [],
   "source": [
    "# Alter names of countries so tables can join\n",
    "GDI_df[\"Country\"]= GDI_df[\"Country\"].replace(\"Bolivia (Plurinational State of)\", \"Bolivia\")"
   ]
  },
  {
   "cell_type": "code",
   "execution_count": 34,
   "id": "deb37d9d",
   "metadata": {},
   "outputs": [],
   "source": [
    "GDI_df[\"Country\"]= GDI_df[\"Country\"].replace(\"Iran (Islamic Republic of)\",\"Iran\")"
   ]
  },
  {
   "cell_type": "code",
   "execution_count": 35,
   "id": "7430c73e",
   "metadata": {},
   "outputs": [],
   "source": [
    "GDI_df[\"Country\"]= GDI_df[\"Country\"].replace(\"Lao People's Democratic Republic\",\"Laos\")"
   ]
  },
  {
   "cell_type": "code",
   "execution_count": 36,
   "id": "fd5aed47",
   "metadata": {},
   "outputs": [],
   "source": [
    "GDI_df[\"Country\"]= GDI_df[\"Country\"].replace(\"Moldova (Republic of)\",\"Moldova\")"
   ]
  },
  {
   "cell_type": "code",
   "execution_count": 37,
   "id": "edc81ca2",
   "metadata": {},
   "outputs": [],
   "source": [
    "GDI_df[\"Country\"]= GDI_df[\"Country\"].replace(\"Palestine, State of\",\"Palestine\")"
   ]
  },
  {
   "cell_type": "code",
   "execution_count": 38,
   "id": "47a73740",
   "metadata": {},
   "outputs": [],
   "source": [
    "GDI_df[\"Country\"]= GDI_df[\"Country\"].replace(\"Russian Federation\",\"Russia\")"
   ]
  },
  {
   "cell_type": "code",
   "execution_count": 39,
   "id": "e30f6c52",
   "metadata": {},
   "outputs": [],
   "source": [
    "GDI_df[\"Country\"]= GDI_df[\"Country\"].replace(\"Korea (Republic of)\",\"South Korea\")"
   ]
  },
  {
   "cell_type": "code",
   "execution_count": 40,
   "id": "de558d46",
   "metadata": {},
   "outputs": [],
   "source": [
    "GDI_df[\"Country\"]= GDI_df[\"Country\"].replace(\"Syrian Arab Republic\",\"Syria\")"
   ]
  },
  {
   "cell_type": "code",
   "execution_count": 41,
   "id": "1b0c2953",
   "metadata": {},
   "outputs": [],
   "source": [
    "GDI_df[\"Country\"]= GDI_df[\"Country\"].replace(\"Tanzania (United Republic of)\",\"Tanzania\")"
   ]
  },
  {
   "cell_type": "code",
   "execution_count": 42,
   "id": "a3ffe896",
   "metadata": {},
   "outputs": [],
   "source": [
    "GDI_df[\"Country\"]= GDI_df[\"Country\"].replace(\"Venezuela (Bolivarian Republic of)\",\"Venezuela\")"
   ]
  },
  {
   "cell_type": "code",
   "execution_count": 43,
   "id": "6433514e",
   "metadata": {},
   "outputs": [],
   "source": [
    "GDI_df[\"Country\"]= GDI_df[\"Country\"].replace(\"Viet Nam\",\"Vietnam\")"
   ]
  },
  {
   "cell_type": "markdown",
   "id": "5a4f5148",
   "metadata": {},
   "source": [
    "## SQL Database"
   ]
  },
  {
   "cell_type": "code",
   "execution_count": 44,
   "id": "ff922f7d",
   "metadata": {},
   "outputs": [],
   "source": [
    "import sqlite3"
   ]
  },
  {
   "cell_type": "code",
   "execution_count": 45,
   "id": "8f1ccc4b",
   "metadata": {},
   "outputs": [],
   "source": [
    "#make connection to database\n",
    "conn = sqlite3.connect('final_project.db')"
   ]
  },
  {
   "cell_type": "code",
   "execution_count": 46,
   "id": "801606a0",
   "metadata": {},
   "outputs": [],
   "source": [
    "# Convert dataframes into sql table\n",
    "GDI_df.to_sql('gender', conn, if_exists='replace')"
   ]
  },
  {
   "cell_type": "code",
   "execution_count": 47,
   "id": "ddbb7e78",
   "metadata": {},
   "outputs": [],
   "source": [
    "api_df.to_sql('happiness', conn, if_exists='replace')"
   ]
  },
  {
   "cell_type": "code",
   "execution_count": 48,
   "id": "5cb05472",
   "metadata": {},
   "outputs": [],
   "source": [
    "html_df.to_sql('GDP', conn, if_exists='replace')"
   ]
  },
  {
   "cell_type": "code",
   "execution_count": 49,
   "id": "93bdb4cb",
   "metadata": {},
   "outputs": [],
   "source": [
    "# Create cursor object\n",
    "cursor = conn.cursor()"
   ]
  },
  {
   "cell_type": "code",
   "execution_count": 50,
   "id": "b40d8efd",
   "metadata": {},
   "outputs": [],
   "source": [
    "# selecting table for removing extra characters from strings:\n",
    "sqlselect = '''\n",
    "SELECT Country, Mean_GDP\n",
    "FROM GDP\n",
    "'''"
   ]
  },
  {
   "cell_type": "code",
   "execution_count": 51,
   "id": "a1700616",
   "metadata": {},
   "outputs": [
    {
     "data": {
      "text/plain": [
       "<sqlite3.Cursor at 0x1921547a2d0>"
      ]
     },
     "execution_count": 51,
     "metadata": {},
     "output_type": "execute_result"
    }
   ],
   "source": [
    "# Executing the query\n",
    "cursor.execute(sqlselect)"
   ]
  },
  {
   "cell_type": "code",
   "execution_count": 52,
   "id": "fcf58c68",
   "metadata": {},
   "outputs": [],
   "source": [
    "# removing extra characters from strings that appeared when converting from df to table:\n",
    "sqlreplace = '''\n",
    "UPDATE GDP\n",
    "SET Country = REPLACE(Country, '\\xa0', '')\n",
    "'''"
   ]
  },
  {
   "cell_type": "code",
   "execution_count": 53,
   "id": "b32613b9",
   "metadata": {},
   "outputs": [
    {
     "data": {
      "text/plain": [
       "<sqlite3.Cursor at 0x1921547a2d0>"
      ]
     },
     "execution_count": 53,
     "metadata": {},
     "output_type": "execute_result"
    }
   ],
   "source": [
    "# Executing the query\n",
    "cursor.execute(sqlreplace)"
   ]
  },
  {
   "cell_type": "code",
   "execution_count": 54,
   "id": "666da904",
   "metadata": {},
   "outputs": [],
   "source": [
    "# to avoid error:\n",
    "sql2 = '''DROP TABLE IF EXISTS joined_table;'''"
   ]
  },
  {
   "cell_type": "code",
   "execution_count": 55,
   "id": "04d2a3e9",
   "metadata": {},
   "outputs": [
    {
     "data": {
      "text/plain": [
       "<sqlite3.Cursor at 0x1921547a2d0>"
      ]
     },
     "execution_count": 55,
     "metadata": {},
     "output_type": "execute_result"
    }
   ],
   "source": [
    "# Executing the query\n",
    "cursor.execute(sql2)"
   ]
  },
  {
   "cell_type": "code",
   "execution_count": 56,
   "id": "35bb09fa",
   "metadata": {},
   "outputs": [],
   "source": [
    "# Left Join both tables to gender table\n",
    "sql3 = '''CREATE TABLE joined_table AS\n",
    "SELECT gender.Country, gender.GDI_Value, gender.Lif_Expec_Female, gender.Lif_Excep_Male, happiness.Happiness, GDP.Mean_GDP\n",
    "FROM gender\n",
    "LEFT JOIN happiness ON gender.Country = happiness.Country\n",
    "LEFT JOIN GDP ON gender.Country = GDP.Country;\n",
    "'''"
   ]
  },
  {
   "cell_type": "code",
   "execution_count": 57,
   "id": "55475786",
   "metadata": {},
   "outputs": [
    {
     "data": {
      "text/plain": [
       "<sqlite3.Cursor at 0x1921547a2d0>"
      ]
     },
     "execution_count": 57,
     "metadata": {},
     "output_type": "execute_result"
    }
   ],
   "source": [
    "# Executing the query\n",
    "cursor.execute(sql3)"
   ]
  },
  {
   "cell_type": "code",
   "execution_count": 58,
   "id": "9cf3c8c3",
   "metadata": {},
   "outputs": [],
   "source": [
    "# Dele rows with missing Happiness values\n",
    "sqldelete = '''DELETE FROM joined_table\n",
    "WHERE Happiness IS NULL;'''"
   ]
  },
  {
   "cell_type": "code",
   "execution_count": 59,
   "id": "32ade91e",
   "metadata": {},
   "outputs": [
    {
     "data": {
      "text/plain": [
       "<sqlite3.Cursor at 0x1921547a2d0>"
      ]
     },
     "execution_count": 59,
     "metadata": {},
     "output_type": "execute_result"
    }
   ],
   "source": [
    "# Executing the query\n",
    "cursor.execute(sqldelete)"
   ]
  },
  {
   "cell_type": "code",
   "execution_count": 60,
   "id": "e5c176aa",
   "metadata": {},
   "outputs": [],
   "source": [
    "# Dele rows with missing GDP values\n",
    "sqldelete2 = '''DELETE FROM joined_table\n",
    "WHERE Mean_GDP IS NULL;'''"
   ]
  },
  {
   "cell_type": "code",
   "execution_count": 61,
   "id": "529b59eb",
   "metadata": {},
   "outputs": [
    {
     "data": {
      "text/plain": [
       "<sqlite3.Cursor at 0x1921547a2d0>"
      ]
     },
     "execution_count": 61,
     "metadata": {},
     "output_type": "execute_result"
    }
   ],
   "source": [
    "# Executing the query\n",
    "cursor.execute(sqldelete2)"
   ]
  },
  {
   "cell_type": "code",
   "execution_count": 62,
   "id": "fc186109",
   "metadata": {
    "scrolled": true
   },
   "outputs": [],
   "source": [
    "# select table\n",
    "tableview = pd.read_sql_query(\"SELECT * FROM joined_table\", conn)"
   ]
  },
  {
   "cell_type": "code",
   "execution_count": 63,
   "id": "c7d73d90",
   "metadata": {
    "scrolled": true
   },
   "outputs": [],
   "source": [
    "# export to pandas dataframe for visualizations\n",
    "df = pd.DataFrame(tableview, columns = ['Country', 'GDI_Value', 'Lif_Expec_Female', 'Lif_Excep_Male', 'Happiness', 'Mean_GDP'])"
   ]
  },
  {
   "cell_type": "code",
   "execution_count": 72,
   "id": "b38989c0",
   "metadata": {},
   "outputs": [],
   "source": [
    "# Closing the connection\n",
    "conn.close()"
   ]
  },
  {
   "cell_type": "markdown",
   "id": "651aa978",
   "metadata": {},
   "source": [
    "## Visualizations"
   ]
  },
  {
   "cell_type": "code",
   "execution_count": 65,
   "id": "0a4a9c8d",
   "metadata": {},
   "outputs": [
    {
     "name": "stdout",
     "output_type": "stream",
     "text": [
      "                      Country  GDI_Value  Lif_Expec_Female  Lif_Excep_Male  Happiness      Mean_GDP\n",
      "0                 Afghanistan      0.659              66.4            63.4      2.694  2.001500e+04\n",
      "1                     Albania      0.967              80.2            77.0      5.004  1.714200e+04\n",
      "2                     Algeria      0.858              78.1            75.7      5.043  1.676090e+05\n",
      "3                      Angola      0.903              64.0            58.4      3.795  8.654933e+04\n",
      "4                   Argentina      0.993              80.0            73.2      5.793  5.017527e+05\n",
      "5                     Armenia      0.982              78.5            71.3      5.062  1.473167e+04\n",
      "6                   Australia      0.976              85.4            81.5      7.177  1.563640e+06\n",
      "7                     Austria      0.964              83.9            79.2      7.396  4.594623e+05\n",
      "8                  Azerbaijan      0.943              75.5            70.5      5.168  5.576500e+04\n",
      "9                     Bahrain      0.922              78.4            76.4      6.227  3.877233e+04\n",
      "10                 Bangladesh      0.904              74.6            70.9      4.499  4.021667e+05\n",
      "11                    Belarus      1.007              79.6            69.7      5.234  6.939400e+04\n",
      "12                    Belgium      0.974              83.9            79.3      6.892  5.704103e+05\n",
      "13                     Belize      0.976              77.8            71.7      5.956  2.017333e+03\n",
      "14                      Benin      0.855              63.3            60.2      5.820  1.684600e+04\n",
      "15                     Bhutan      0.921              72.2            71.4      5.082  2.501667e+03\n",
      "16                    Bolivia      0.945              74.5            68.7      5.916  4.013733e+04\n",
      "17     Bosnia and Herzegovina      0.937              79.9            74.9      5.887  2.201800e+04\n",
      "18                   Botswana      0.998              72.4            66.5      3.461  1.713367e+04\n",
      "19                     Brazil      0.993              79.6            72.2      6.191  1.649474e+06\n",
      "20                   Bulgaria      0.995              78.7            71.6      5.099  7.838900e+04\n",
      "21               Burkina Faso      0.867              62.3            60.7      4.927  1.845833e+04\n",
      "22                    Burundi      0.999              63.4            59.8      3.775  3.329000e+03\n",
      "23                   Cambodia      0.922              71.9            67.5      5.122  2.686067e+04\n",
      "24                   Cameroon      0.864              60.6            58.0      5.251  4.311067e+04\n",
      "25                     Canada      0.986              84.4            80.4      7.175  1.945050e+06\n",
      "26   Central African Republic      0.801              55.5            51.1      3.476  2.442667e+03\n",
      "27                       Chad      0.764              55.7            52.8      4.486  1.195967e+04\n",
      "28                      Chile      0.963              82.4            77.8      6.436  2.936217e+05\n",
      "29                      China      0.957              79.2            74.8      5.131  1.692602e+07\n",
      "30                   Colombia      0.989              80.0            74.5      5.984  3.095297e+05\n",
      "31                    Comoros      0.891              66.1            62.6      3.973  1.268333e+03\n",
      "32                 Costa Rica      0.981              82.9            77.7      7.141  6.476400e+04\n",
      "33                    Croatia      0.990              81.6            75.3      5.536  6.480733e+04\n",
      "34                       Cuba      0.944              80.8            76.8      5.418  1.073520e+05\n",
      "35                     Cyprus      0.979              83.0            78.9      6.276  2.634533e+04\n",
      "36                    Denmark      0.983              82.9            78.9      7.649  3.799710e+05\n",
      "37         Dominican Republic      0.999              77.4            71.0      5.433  9.516867e+04\n",
      "38                    Ecuador      0.967              79.8            74.3      6.128  1.068143e+05\n",
      "39                      Egypt      0.882              74.4            69.7      4.005  4.141820e+05\n",
      "40                El Salvador      0.975              77.8            68.5      6.276  2.845500e+04\n",
      "41                    Estonia      1.017              82.7            74.4      6.091  3.532233e+04\n",
      "42                   Ethiopia      0.837              68.5            64.7      4.379  1.063543e+05\n",
      "43                    Finland      0.990              84.7            79.1      7.858  2.834390e+05\n",
      "44                     France      0.987              85.5            79.7      6.666  2.781960e+06\n",
      "45                      Gabon      0.916              68.7            64.4      4.783  1.853367e+04\n",
      "46                     Gambia      0.846              63.5            60.7      4.922  2.026667e+03\n",
      "47                    Georgia      0.980              78.1            69.3      4.659  1.992133e+04\n",
      "48                    Germany      0.972              83.7            78.9      7.118  4.033560e+06\n",
      "49                      Ghana      0.911              65.2            63.0      5.481  7.404067e+04\n",
      "50                     Greece      0.963              84.7            79.8      5.409  2.090280e+05\n",
      "51                  Guatemala      0.941              77.2            71.4      6.627  8.496967e+04\n",
      "52                     Guinea      0.817              62.1            60.9      5.252  1.702867e+04\n",
      "53                     Guyana      0.961              73.1            66.9      5.993  9.239667e+03\n",
      "54                      Haiti      0.875              66.2            61.8      3.615  1.887700e+04\n",
      "55                   Honduras      0.978              77.6            73.0      5.908  2.762833e+04\n",
      "56                    Hungary      0.981              80.3            73.2      6.065  1.742467e+05\n",
      "57                    Iceland      0.969              84.5            81.5      7.476  2.495967e+04\n",
      "58                      India      0.820              71.0            68.5      3.818  3.102238e+06\n",
      "59                  Indonesia      0.940              74.0            69.6      5.340  1.177982e+06\n",
      "60                       Iran      0.866              77.9            75.6      4.278  1.048201e+06\n",
      "61                       Iraq      0.774              72.7            68.6      4.462  2.191740e+05\n",
      "62                    Ireland      0.981              83.9            80.7      6.962  4.814083e+05\n",
      "63                     Israel      0.973              84.5            81.3      6.927  4.719570e+05\n",
      "64                      Italy      0.968              85.5            81.3      6.517  1.995174e+06\n",
      "65                    Jamaica      0.994              76.1            72.9      5.890  1.451800e+04\n",
      "66                      Japan      0.978              87.7            81.5      5.794  4.765267e+06\n",
      "67                     Jordan      0.875              76.3            72.8      4.639  4.566900e+04\n",
      "68                 Kazakhstan      0.980              77.7            69.2      6.008  1.954113e+05\n",
      "69                      Kenya      0.937              69.0            64.3      4.656  1.087397e+05\n",
      "70                South Korea      0.936              86.0            79.9      5.840  1.723546e+06\n",
      "71                     Kuwait      0.983              76.6            74.8      6.094  1.318257e+05\n",
      "72                 Kyrgyzstan      0.957              75.6            67.4      5.297  8.676333e+03\n",
      "73                       Laos      0.927              69.7            66.1      4.859  1.805300e+04\n",
      "74                     Latvia      1.036              80.0            70.2      5.901  3.772267e+04\n",
      "75                    Lebanon      0.892              80.9            77.1      5.167  3.537233e+04\n",
      "76                    Lesotho      1.014              57.6            51.2      3.795  2.433000e+03\n",
      "77                    Liberia      0.890              65.5            62.7      4.135  3.289333e+03\n",
      "78                      Libya      0.976              76.0            70.1      5.494  3.728967e+04\n",
      "79                  Lithuania      1.030              81.4            70.3      6.309  6.336067e+04\n",
      "80                 Luxembourg      0.976              84.3            80.2      7.243  8.073933e+04\n",
      "81                 Madagascar      0.952              68.7            65.4      4.071  1.425033e+04\n",
      "82                     Malawi      0.986              67.4            61.1      3.335  1.198100e+04\n",
      "83                   Malaysia      0.972              78.3            74.2      5.339  3.811413e+05\n",
      "84                       Mali      0.821              60.1            58.5      4.416  1.830333e+04\n",
      "85                      Malta      0.966              84.3            80.7      6.910  1.641900e+04\n",
      "86                 Mauritania      0.864              66.5            63.3      4.314  8.745000e+03\n",
      "87                  Mauritius      0.976              78.5            71.7      5.882  1.119167e+04\n",
      "88                     Mexico      0.960              77.9            72.2      6.550  1.263670e+06\n",
      "89                    Moldova      1.014              76.2            67.6      5.682  1.321367e+04\n",
      "90                   Mongolia      1.023              74.1            65.8      5.465  1.465167e+04\n",
      "91                 Montenegro      0.966              79.3            74.4      5.650  5.575000e+03\n",
      "92                    Morocco      0.835              77.9            75.4      4.897  1.301077e+05\n",
      "93                 Mozambique      0.912              63.7            57.8      4.654  1.599933e+04\n",
      "94                    Namibia      1.007              66.5            60.7      4.834  1.181133e+04\n",
      "95                      Nepal      0.933              72.2            69.3      4.910  3.613200e+04\n",
      "96                Netherlands      0.966              84.0            80.6      7.463  9.741517e+05\n",
      "97                New Zealand      0.964              84.0            80.6      7.370  2.349120e+05\n",
      "98                  Nicaragua      1.012              78.0            70.9      5.819  1.410967e+04\n",
      "99                      Niger      0.724              63.6            61.3      5.164  1.444367e+04\n",
      "100                   Nigeria      0.881              55.6            53.8      5.252  4.582930e+05\n",
      "101                    Norway      0.990              84.4            80.4      7.444  4.498873e+05\n",
      "102                      Oman      0.936              80.3            76.1      6.853  8.606867e+04\n",
      "103                  Pakistan      0.745              68.3            66.3      5.472  3.268883e+05\n",
      "104                 Palestine      0.870              75.8            72.4      4.554  1.776533e+04\n",
      "105                    Panama      1.019              81.8            75.4      6.281  6.254267e+04\n",
      "106                  Paraguay      0.966              76.4            72.3      5.713  3.871533e+04\n",
      "107                      Peru      0.957              79.5            74.1      5.680  2.219263e+05\n",
      "108               Philippines      1.007              75.5            67.3      5.869  3.857457e+05\n",
      "109                    Poland      1.007              82.6            74.8      6.201  6.623237e+05\n",
      "110                  Portugal      0.988              84.9            79.0      5.920  2.447600e+05\n",
      "111                     Qatar      1.030              82.0            79.1      6.375  1.824470e+05\n",
      "112                   Romania      0.991              79.5            72.6      6.151  2.775630e+05\n",
      "113                    Russia      1.007              77.8            67.1      5.514  1.797463e+06\n",
      "114                    Rwanda      0.945              71.1            66.8      3.561  1.116667e+04\n",
      "115              Saudi Arabia      0.896              76.8            73.9      6.356  8.480823e+05\n",
      "116                   Senegal      0.870              69.9            65.8      4.769  2.652633e+04\n",
      "117                    Serbia      0.977              78.6            73.4      5.936  5.970800e+04\n",
      "118              Sierra Leone      0.884              55.5            53.9      4.306  4.029333e+03\n",
      "119                 Singapore      0.985              85.7            81.5      6.375  3.868690e+05\n",
      "120                  Slovakia      0.992              81.0            74.0      6.235  1.108207e+05\n",
      "121                  Slovenia      1.001              84.0            78.6      6.249  5.910233e+04\n",
      "122              South Africa      0.986              67.7            60.7      4.884  3.778557e+05\n",
      "123                     Spain      0.986              86.2            80.8      6.513  1.365563e+06\n",
      "124                 Sri Lanka      0.955              80.3            73.6      4.400  7.964500e+04\n",
      "125                     Sudan      0.860              67.2            63.5      4.139  4.638167e+04\n",
      "126                  Suriname      0.985              75.1            68.5      6.269  3.331000e+03\n",
      "127                    Sweden      0.983              84.6            81.0      7.375  5.908080e+05\n",
      "128               Switzerland      0.968              85.6            81.9      7.509  7.908443e+05\n",
      "129                     Syria      0.829              78.1            67.9      3.462  1.850900e+04\n",
      "130                Tajikistan      0.823              73.4            68.9      5.829  8.908667e+03\n",
      "131                  Tanzania      0.948              67.2            63.6      3.445  6.969900e+04\n",
      "132                  Thailand      1.008              80.9            73.5      6.012  5.141783e+05\n",
      "133                      Togo      0.822              61.9            60.2      4.023  7.972667e+03\n",
      "134       Trinidad and Tobago      1.003              76.2            70.9      6.192  2.404067e+04\n",
      "135                   Tunisia      0.900              78.7            74.7      4.741  4.411333e+04\n",
      "136                    Turkey      0.924              80.6            74.7      5.186  7.962857e+05\n",
      "137                    Uganda      0.863              65.6            61.0      4.322  4.249633e+04\n",
      "138                   Ukraine      1.000              76.8            67.1      4.662  1.851290e+05\n",
      "139      United Arab Emirates      0.931              79.3            77.3      6.604  4.072170e+05\n",
      "140            United Kingdom      0.970              83.0            79.6      7.233  3.049843e+06\n",
      "141             United States      0.994              81.4            76.3      6.883  2.297500e+07\n",
      "142                   Uruguay      1.016              81.5            74.1      6.372  6.137000e+04\n",
      "143                Uzbekistan      0.939              73.8            69.6      6.205  6.868767e+04\n",
      "144                 Venezuela      1.009              76.0            68.3      5.006  2.236210e+05\n",
      "145                   Vietnam      0.997              79.5            71.3      5.296  3.492013e+05\n",
      "146                     Yemen      0.488              67.8            64.4      3.058  2.553800e+04\n",
      "147                    Zambia      0.958              66.9            60.8      4.041  2.211300e+04\n",
      "148                  Zimbabwe      0.931              62.9            59.8      3.616  2.876167e+04\n"
     ]
    }
   ],
   "source": [
    "# Human Readable Dataset\n",
    "pd.set_option('display.max_rows',500)\n",
    "pd.set_option('display.max_columns',500)\n",
    "pd.set_option('display.width',1000)\n",
    "print(df)"
   ]
  },
  {
   "cell_type": "code",
   "execution_count": 66,
   "id": "f5ad3806",
   "metadata": {},
   "outputs": [
    {
     "data": {
      "image/png": "[encoded data removed]",
      "text/plain": [
       "<Figure size 432x288 with 1 Axes>"
      ]
     },
     "metadata": {
      "needs_background": "light"
     },
     "output_type": "display_data"
    }
   ],
   "source": [
    "plt.scatter(df['GDI_Value'], df['Happiness'], alpha=0.6, color='purple')\n",
    "plt.xlabel(\"Gender Developement Index Value\")\n",
    "plt.ylabel(\"Happiness Index Value\")\n",
    "plt.title('Scatterplot of Gender Developement Index Value vs. Happiness Index Value')\n",
    "plt.show()"
   ]
  },
  {
   "cell_type": "code",
   "execution_count": 67,
   "id": "de6669f4",
   "metadata": {},
   "outputs": [
    {
     "data": {
      "image/png": "[encoded data removed]",
      "text/plain": [
       "<Figure size 432x288 with 1 Axes>"
      ]
     },
     "metadata": {
      "needs_background": "light"
     },
     "output_type": "display_data"
    }
   ],
   "source": [
    "plt.scatter(df['GDI_Value'], df['Mean_GDP'], alpha=0.5)\n",
    "plt.xlabel(\"Gender Developement Index Value\")\n",
    "plt.ylabel(\"GDP (US$ Million)\")\n",
    "plt.title('Scatterplot of Gender Developement Index Value vs. GDP (US$ Million)')\n",
    "plt.show()"
   ]
  },
  {
   "cell_type": "code",
   "execution_count": 68,
   "id": "5941f3bd",
   "metadata": {},
   "outputs": [
    {
     "data": {
      "image/png": "[encoded data removed]",
      "text/plain": [
       "<Figure size 432x288 with 1 Axes>"
      ]
     },
     "metadata": {
      "needs_background": "light"
     },
     "output_type": "display_data"
    }
   ],
   "source": [
    "plt.scatter(df['Lif_Expec_Female'], df['Lif_Excep_Male'], alpha=0.5, color='gray')\n",
    "plt.xlabel(\"Life Expectancy for Women (Years)\")\n",
    "plt.ylabel(\"Life Expectancy for Men (Years)\")\n",
    "x = np.linspace(50, 100, 1000)\n",
    "plt.plot(x, x, color='red', linestyle=':')\n",
    "plt.title('Scatterplot of Female vs. Male Life Expectancy')\n",
    "plt.show()"
   ]
  },
  {
   "cell_type": "code",
   "execution_count": 69,
   "id": "803912e8",
   "metadata": {
    "scrolled": true
   },
   "outputs": [
    {
     "data": {
      "image/png": "[encoded data removed]",
      "text/plain": [
       "<Figure size 432x288 with 1 Axes>"
      ]
     },
     "metadata": {
      "needs_background": "light"
     },
     "output_type": "display_data"
    }
   ],
   "source": [
    "plt.hist(df['GDI_Value'], bins='auto', density=True, color='green')\n",
    "plt.xlabel('Gender Developement Index Value')\n",
    "plt.ylabel('Frequency')\n",
    "plt.title('Histogram of GDI Values')\n",
    "plt.show()"
   ]
  },
  {
   "cell_type": "code",
   "execution_count": 70,
   "id": "47950237",
   "metadata": {
    "scrolled": true
   },
   "outputs": [
    {
     "data": {
      "image/png": "[encoded data removed]",
      "text/plain": [
       "<Figure size 432x288 with 1 Axes>"
      ]
     },
     "metadata": {
      "needs_background": "light"
     },
     "output_type": "display_data"
    }
   ],
   "source": [
    "plt.boxplot(df['GDI_Value'])\n",
    "plt.ylabel('Gender Developement Index Values')\n",
    "plt.title('Boxplot of GDI Values')\n",
    "plt.show()"
   ]
  },
  {
   "cell_type": "code",
   "execution_count": 71,
   "id": "f96cdcb2",
   "metadata": {},
   "outputs": [
    {
     "data": {
      "image/png": "[encoded data removed]",
      "text/plain": [
       "<Figure size 432x288 with 1 Axes>"
      ]
     },
     "metadata": {
      "needs_background": "light"
     },
     "output_type": "display_data"
    }
   ],
   "source": [
    "plt.scatter(df['Mean_GDP'], df['Happiness'], alpha=0.4, color='orange')\n",
    "plt.xlabel(\"GDP (US$ Million)\")\n",
    "plt.ylabel(\"Happiness Index Value\")\n",
    "plt.title('Scatterplot of GDP vs. Happiness')\n",
    "plt.show()"
   ]
  },
  {
   "cell_type": "markdown",
   "id": "f06be300",
   "metadata": {},
   "source": [
    "## Summary"
   ]
  },
  {
   "cell_type": "markdown",
   "id": "937fb153",
   "metadata": {},
   "source": [
    "In order to complete this project, I had to learn to do a handful of new things, and I was able to practice some skills that had been introduced to me in other courses. Starting with the things that are completely new to me, I pulled data from an API for the first time when learning to do this project. I also performed web scraping on a table from an html website for the first time. Once I had gotten my data, I was able to use my python skills to clean the data, like I had been taught to do in previous courses. However, once the dataframes were ready I had to learn how to convert them to tables inside an SQL database. I also ended up learning how to join tables inside databases, how to do string manipulation methods with SQL, and how to convert from a table in an SQL database back to a pandas dataframe. \n",
    "\n",
    "For ethical implications, the most blatant ethical issue comes from the fact that I am using population data divided along country lines. Every country constitutes a variety of peoples, and it may be unethical to draw arbitrary boundaries around these groups and then generalize about their gender equality or general happiness. Furthermore, I removed all time data related to the country metrics, and I assumed that gender equality data from 2019 will be relevant to the GDP of countries from 2019-2021. I also assumed that GDP will be generally stable year over year and that if 2021 data was missing for the GDP of a country, that it could be substituted with 2020 or 2019 data. The last ethical consideration I would make is that there are three different international organizations which are performing the GDP estimates. Each of these organizations has their own agendas and priorities about which territories are considered independent countries, and what their GDP should be, which could have influenced their estimates. "
   ]
  },
  {
   "cell_type": "code",
   "execution_count": null,
   "id": "8d3ebdac",
   "metadata": {},
   "outputs": [],
   "source": []
  }
 ],
 "metadata": {
  "kernelspec": {
   "display_name": "Python 3 (ipykernel)",
   "language": "python",
   "name": "python3"
  },
  "language_info": {
   "codemirror_mode": {
    "name": "ipython",
    "version": 3
   },
   "file_extension": ".py",
   "mimetype": "text/x-python",
   "name": "python",
   "nbconvert_exporter": "python",
   "pygments_lexer": "ipython3",
   "version": "3.9.7"
  }
 },
 "nbformat": 4,
 "nbformat_minor": 5
}
