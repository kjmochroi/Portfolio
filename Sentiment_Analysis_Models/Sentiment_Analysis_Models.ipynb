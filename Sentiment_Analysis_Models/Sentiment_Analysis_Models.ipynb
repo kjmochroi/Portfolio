{
 "cells": [
  {
   "cell_type": "markdown",
   "id": "619f0fe9",
   "metadata": {},
   "source": [
    "# Week 5 Exercises  \n",
    "\n",
    "***KJ MoChroi  \n",
    "DSC 550 Fall 2022  \n",
    "Bellevue University***"
   ]
  },
  {
   "cell_type": "markdown",
   "id": "a880d5a6",
   "metadata": {},
   "source": [
    "**Change Control Log:**  \n",
    "\n",
    "Change#: 1  \n",
    "Change(s) Made:    Assignment started, tf-idf matrix completed.   \n",
    "Date of Change:  9/29/2022  \n",
    "Author: KJ MoChroi  \n",
    "Change Approved by: KJ MoChroi  \n",
    "Date Moved to Production: 10/2/2022  \n",
    "\n",
    "Change#: 2  \n",
    "Change(s) Made:    Assignment completed.   \n",
    "Date of Change:  9/30/2022  \n",
    "Author: KJ MoChroi  \n",
    "Change Approved by: KJ MoChroi  \n",
    "Date Moved to Production: 10/2/2022  "
   ]
  },
  {
   "cell_type": "markdown",
   "id": "200772a8",
   "metadata": {},
   "source": [
    "#### You will build a model with the movie reviews dataset that you worked with in Week 3: Bag of Words Meets Bags of Popcorn. "
   ]
  },
  {
   "cell_type": "code",
   "execution_count": 1,
   "id": "efba9676",
   "metadata": {},
   "outputs": [],
   "source": [
    "# Libraries\n",
    "import pandas as pd\n",
    "import numpy as np\n",
    "import matplotlib.pyplot as plt"
   ]
  },
  {
   "cell_type": "markdown",
   "id": "098a132d",
   "metadata": {},
   "source": [
    "#### Get the stemmed data using the same process you did in Week 3."
   ]
  },
  {
   "cell_type": "code",
   "execution_count": 2,
   "id": "c7fb11c4",
   "metadata": {
    "scrolled": true
   },
   "outputs": [],
   "source": [
    "# import dataset\n",
    "df = pd.read_csv('labeledTrainData.tsv', sep='\\t')"
   ]
  },
  {
   "cell_type": "code",
   "execution_count": 3,
   "id": "4c534cb1",
   "metadata": {},
   "outputs": [],
   "source": [
    "# lowercase\n",
    "df[\"review\"] = df[\"review\"].str.lower()"
   ]
  },
  {
   "cell_type": "code",
   "execution_count": 4,
   "id": "ba2a78ea",
   "metadata": {},
   "outputs": [],
   "source": [
    "import re"
   ]
  },
  {
   "cell_type": "code",
   "execution_count": 5,
   "id": "6027a16e",
   "metadata": {},
   "outputs": [],
   "source": [
    "# remove punctuation and special characters\n",
    "df['review'] = df['review'].apply(lambda x: re.sub('[^A-Za-z0-9]', ' ', x))"
   ]
  },
  {
   "cell_type": "code",
   "execution_count": 6,
   "id": "1ac649e8",
   "metadata": {},
   "outputs": [
    {
     "name": "stderr",
     "output_type": "stream",
     "text": [
      "[nltk_data] Downloading package stopwords to\n",
      "[nltk_data]     C:\\Users\\karli\\AppData\\Roaming\\nltk_data...\n",
      "[nltk_data]   Package stopwords is already up-to-date!\n"
     ]
    }
   ],
   "source": [
    "# Download stopwords package\n",
    "import nltk\n",
    "nltk.download('stopwords')\n",
    "from nltk.corpus import stopwords\n",
    "stop_words = stopwords.words('english')"
   ]
  },
  {
   "cell_type": "code",
   "execution_count": 7,
   "id": "351b4bcd",
   "metadata": {},
   "outputs": [],
   "source": [
    "# remove stopwords\n",
    "df['review'] = df['review'].apply(lambda x: ' '.join([word for word in x.split() if word not in (stop_words)]))"
   ]
  },
  {
   "cell_type": "code",
   "execution_count": 8,
   "id": "e0ff2896",
   "metadata": {},
   "outputs": [],
   "source": [
    "# First I have to tokenize the reviews since I haven't done that yet\n",
    "from nltk.tokenize import word_tokenize"
   ]
  },
  {
   "cell_type": "code",
   "execution_count": 9,
   "id": "67725470",
   "metadata": {},
   "outputs": [],
   "source": [
    "# Apply portstemmer\n",
    "df['tokenized_review'] = df.apply(lambda row: nltk.word_tokenize(row['review']), axis=1)"
   ]
  },
  {
   "cell_type": "code",
   "execution_count": 10,
   "id": "61071d6a",
   "metadata": {},
   "outputs": [],
   "source": [
    "# Now I will apply PortStemmer\n",
    "from nltk.stem.porter import PorterStemmer"
   ]
  },
  {
   "cell_type": "code",
   "execution_count": 11,
   "id": "06dc8baa",
   "metadata": {},
   "outputs": [],
   "source": [
    "# Create stemmer\n",
    "porter = PorterStemmer()"
   ]
  },
  {
   "cell_type": "code",
   "execution_count": 12,
   "id": "ef38d54c",
   "metadata": {},
   "outputs": [],
   "source": [
    "# stem the review\n",
    "df['stemmed_review'] = df['tokenized_review'].apply(lambda tokenized_words : [porter.stem(word) for word in tokenized_words])"
   ]
  },
  {
   "cell_type": "code",
   "execution_count": 13,
   "id": "39c15c9a",
   "metadata": {
    "scrolled": false
   },
   "outputs": [
    {
     "data": {
      "text/html": [
       "<div>\n",
       "<style scoped>\n",
       "    .dataframe tbody tr th:only-of-type {\n",
       "        vertical-align: middle;\n",
       "    }\n",
       "\n",
       "    .dataframe tbody tr th {\n",
       "        vertical-align: top;\n",
       "    }\n",
       "\n",
       "    .dataframe thead th {\n",
       "        text-align: right;\n",
       "    }\n",
       "</style>\n",
       "<table border=\"1\" class=\"dataframe\">\n",
       "  <thead>\n",
       "    <tr style=\"text-align: right;\">\n",
       "      <th></th>\n",
       "      <th>id</th>\n",
       "      <th>sentiment</th>\n",
       "      <th>review</th>\n",
       "      <th>tokenized_review</th>\n",
       "      <th>stemmed_review</th>\n",
       "    </tr>\n",
       "  </thead>\n",
       "  <tbody>\n",
       "    <tr>\n",
       "      <th>0</th>\n",
       "      <td>5814_8</td>\n",
       "      <td>1</td>\n",
       "      <td>stuff going moment mj started listening music ...</td>\n",
       "      <td>[stuff, going, moment, mj, started, listening,...</td>\n",
       "      <td>[stuff, go, moment, mj, start, listen, music, ...</td>\n",
       "    </tr>\n",
       "    <tr>\n",
       "      <th>1</th>\n",
       "      <td>2381_9</td>\n",
       "      <td>1</td>\n",
       "      <td>classic war worlds timothy hines entertaining ...</td>\n",
       "      <td>[classic, war, worlds, timothy, hines, enterta...</td>\n",
       "      <td>[classic, war, world, timothi, hine, entertain...</td>\n",
       "    </tr>\n",
       "    <tr>\n",
       "      <th>2</th>\n",
       "      <td>7759_3</td>\n",
       "      <td>0</td>\n",
       "      <td>film starts manager nicholas bell giving welco...</td>\n",
       "      <td>[film, starts, manager, nicholas, bell, giving...</td>\n",
       "      <td>[film, start, manag, nichola, bell, give, welc...</td>\n",
       "    </tr>\n",
       "    <tr>\n",
       "      <th>3</th>\n",
       "      <td>3630_4</td>\n",
       "      <td>0</td>\n",
       "      <td>must assumed praised film greatest filmed oper...</td>\n",
       "      <td>[must, assumed, praised, film, greatest, filme...</td>\n",
       "      <td>[must, assum, prais, film, greatest, film, ope...</td>\n",
       "    </tr>\n",
       "    <tr>\n",
       "      <th>4</th>\n",
       "      <td>9495_8</td>\n",
       "      <td>1</td>\n",
       "      <td>superbly trashy wondrously unpretentious 80 ex...</td>\n",
       "      <td>[superbly, trashy, wondrously, unpretentious, ...</td>\n",
       "      <td>[superbl, trashi, wondrous, unpretenti, 80, ex...</td>\n",
       "    </tr>\n",
       "  </tbody>\n",
       "</table>\n",
       "</div>"
      ],
      "text/plain": [
       "       id  sentiment                                             review  \\\n",
       "0  5814_8          1  stuff going moment mj started listening music ...   \n",
       "1  2381_9          1  classic war worlds timothy hines entertaining ...   \n",
       "2  7759_3          0  film starts manager nicholas bell giving welco...   \n",
       "3  3630_4          0  must assumed praised film greatest filmed oper...   \n",
       "4  9495_8          1  superbly trashy wondrously unpretentious 80 ex...   \n",
       "\n",
       "                                    tokenized_review  \\\n",
       "0  [stuff, going, moment, mj, started, listening,...   \n",
       "1  [classic, war, worlds, timothy, hines, enterta...   \n",
       "2  [film, starts, manager, nicholas, bell, giving...   \n",
       "3  [must, assumed, praised, film, greatest, filme...   \n",
       "4  [superbly, trashy, wondrously, unpretentious, ...   \n",
       "\n",
       "                                      stemmed_review  \n",
       "0  [stuff, go, moment, mj, start, listen, music, ...  \n",
       "1  [classic, war, world, timothi, hine, entertain...  \n",
       "2  [film, start, manag, nichola, bell, give, welc...  \n",
       "3  [must, assum, prais, film, greatest, film, ope...  \n",
       "4  [superbl, trashi, wondrous, unpretenti, 80, ex...  "
      ]
     },
     "execution_count": 13,
     "metadata": {},
     "output_type": "execute_result"
    }
   ],
   "source": [
    "df.head()"
   ]
  },
  {
   "cell_type": "markdown",
   "id": "a0adeca1",
   "metadata": {},
   "source": [
    "#### Split this into a training and test set."
   ]
  },
  {
   "cell_type": "code",
   "execution_count": 14,
   "id": "503a9464",
   "metadata": {},
   "outputs": [],
   "source": [
    "from sklearn.model_selection import train_test_split"
   ]
  },
  {
   "cell_type": "code",
   "execution_count": 15,
   "id": "ad4e043f",
   "metadata": {},
   "outputs": [],
   "source": [
    "x_train, x_test, y_train, y_test = train_test_split(df['stemmed_review'], df['sentiment'])"
   ]
  },
  {
   "cell_type": "markdown",
   "id": "9b793f32",
   "metadata": {},
   "source": [
    "#### Fit and apply the tf-idf vectorization to the training set."
   ]
  },
  {
   "cell_type": "code",
   "execution_count": 16,
   "id": "d735c1b6",
   "metadata": {},
   "outputs": [],
   "source": [
    "from sklearn.feature_extraction.text import CountVectorizer"
   ]
  },
  {
   "cell_type": "code",
   "execution_count": 17,
   "id": "1125c8e1",
   "metadata": {},
   "outputs": [],
   "source": [
    "# join stemmed word list into strings\n",
    "x_train = x_train.str.join(\" \")\n",
    "x_test = x_test.str.join(\" \")"
   ]
  },
  {
   "cell_type": "code",
   "execution_count": 18,
   "id": "1618909f",
   "metadata": {},
   "outputs": [],
   "source": [
    "# Create the bag of words feature matrix\n",
    "count = CountVectorizer()\n",
    "bag_of_words_matrix = count.fit_transform(x_train)"
   ]
  },
  {
   "cell_type": "code",
   "execution_count": 19,
   "id": "a3bf978b",
   "metadata": {},
   "outputs": [],
   "source": [
    "from sklearn.feature_extraction.text import TfidfVectorizer"
   ]
  },
  {
   "cell_type": "code",
   "execution_count": 20,
   "id": "0701cb0f",
   "metadata": {},
   "outputs": [],
   "source": [
    "# Create the tf-idf feature matrix\n",
    "tfidf = TfidfVectorizer()\n",
    "feature_train_matrix = tfidf.fit_transform(x_train)"
   ]
  },
  {
   "cell_type": "code",
   "execution_count": 21,
   "id": "0ed63711",
   "metadata": {},
   "outputs": [
    {
     "data": {
      "text/plain": [
       "<18750x44948 sparse matrix of type '<class 'numpy.float64'>'\n",
       "\twith 1782061 stored elements in Compressed Sparse Row format>"
      ]
     },
     "execution_count": 21,
     "metadata": {},
     "output_type": "execute_result"
    }
   ],
   "source": [
    "feature_train_matrix"
   ]
  },
  {
   "cell_type": "markdown",
   "id": "3ac0d11a",
   "metadata": {},
   "source": [
    "#### Apply but DO NOT FIT the tf-idf vectorization to the test set (Why?)"
   ]
  },
  {
   "cell_type": "code",
   "execution_count": 22,
   "id": "b0a14599",
   "metadata": {},
   "outputs": [],
   "source": [
    "bag_of_words_test_matrix = count.transform(x_test)"
   ]
  },
  {
   "cell_type": "code",
   "execution_count": 23,
   "id": "e9afa7aa",
   "metadata": {},
   "outputs": [],
   "source": [
    "feature_test_matrix = tfidf.transform(x_test)"
   ]
  },
  {
   "cell_type": "code",
   "execution_count": 24,
   "id": "fbeec4dd",
   "metadata": {},
   "outputs": [
    {
     "data": {
      "text/plain": [
       "<6250x44948 sparse matrix of type '<class 'numpy.float64'>'\n",
       "\twith 596277 stored elements in Compressed Sparse Row format>"
      ]
     },
     "execution_count": 24,
     "metadata": {},
     "output_type": "execute_result"
    }
   ],
   "source": [
    "feature_test_matrix"
   ]
  },
  {
   "cell_type": "code",
   "execution_count": 25,
   "id": "87bd7fe5",
   "metadata": {
    "scrolled": true
   },
   "outputs": [
    {
     "name": "stdout",
     "output_type": "stream",
     "text": [
      "We are applying but not fitting because this is the testing data, not the training data. This helps us evaluate our model. If we fitted to this data, we would be overfitting and not creating a general enough model. And we would not be evaluating the model either.\n"
     ]
    }
   ],
   "source": [
    "print(f'We are applying but not fitting because this is the testing data, not the training data. This helps us evaluate our model. If we fitted to this data, we would be overfitting and not creating a general enough model. And we would not be evaluating the model either.')"
   ]
  },
  {
   "cell_type": "markdown",
   "id": "7ca3ff7b",
   "metadata": {},
   "source": [
    "### Logistic Regression"
   ]
  },
  {
   "cell_type": "markdown",
   "id": "0eef2389",
   "metadata": {},
   "source": [
    "#### Train a logistic regression using the training data."
   ]
  },
  {
   "cell_type": "code",
   "execution_count": 26,
   "id": "1300dcbf",
   "metadata": {},
   "outputs": [],
   "source": [
    "# Load libraries\n",
    "from sklearn.linear_model import LogisticRegression"
   ]
  },
  {
   "cell_type": "code",
   "execution_count": 27,
   "id": "b3ae543c",
   "metadata": {},
   "outputs": [],
   "source": [
    "# Create logistic regression object\n",
    "logistic_regression = LogisticRegression()"
   ]
  },
  {
   "cell_type": "code",
   "execution_count": 28,
   "id": "f610ab73",
   "metadata": {},
   "outputs": [],
   "source": [
    "# Train model\n",
    "model = logistic_regression.fit(feature_train_matrix, y_train)"
   ]
  },
  {
   "cell_type": "markdown",
   "id": "14ec1a57",
   "metadata": {},
   "source": [
    "#### Find the model accuracy on test set."
   ]
  },
  {
   "cell_type": "code",
   "execution_count": 29,
   "id": "33152c0e",
   "metadata": {
    "scrolled": true
   },
   "outputs": [],
   "source": [
    "y_test_predictions = model.predict(feature_test_matrix)"
   ]
  },
  {
   "cell_type": "code",
   "execution_count": 30,
   "id": "6c03253e",
   "metadata": {},
   "outputs": [],
   "source": [
    "accuracy_df = pd.DataFrame()\n",
    "accuracy_df['y_test'] = y_test\n",
    "accuracy_df['y_predict'] = y_test_predictions\n",
    "accuracy_df['compare'] = np.where(accuracy_df['y_test'] == accuracy_df['y_predict'], 1, 0)"
   ]
  },
  {
   "cell_type": "code",
   "execution_count": 31,
   "id": "5fe4a5df",
   "metadata": {
    "scrolled": true
   },
   "outputs": [
    {
     "name": "stdout",
     "output_type": "stream",
     "text": [
      "The calculated accuracy of the model is 88.44800000000001%.\n"
     ]
    }
   ],
   "source": [
    "accuracy_score = (accuracy_df['compare'].sum())/6250*100\n",
    "print(f'The calculated accuracy of the model is {accuracy_score}%.')"
   ]
  },
  {
   "cell_type": "code",
   "execution_count": 32,
   "id": "f612b0f5",
   "metadata": {},
   "outputs": [
    {
     "data": {
      "text/plain": [
       "array([0.8632, 0.8552, 0.856 , 0.8672, 0.8504])"
      ]
     },
     "execution_count": 32,
     "metadata": {},
     "output_type": "execute_result"
    }
   ],
   "source": [
    "# Cross-validate model using accuracy\n",
    "from sklearn.model_selection import cross_val_score\n",
    "cross_val_score(model, feature_test_matrix, y_test, scoring=\"accuracy\")"
   ]
  },
  {
   "cell_type": "markdown",
   "id": "aaf3e1a3",
   "metadata": {},
   "source": [
    "#### Create a confusion matrix for the test set predictions."
   ]
  },
  {
   "cell_type": "code",
   "execution_count": 33,
   "id": "b109b81a",
   "metadata": {},
   "outputs": [],
   "source": [
    "from sklearn.metrics import confusion_matrix\n",
    "import seaborn as sns"
   ]
  },
  {
   "cell_type": "code",
   "execution_count": 34,
   "id": "1ed733be",
   "metadata": {},
   "outputs": [],
   "source": [
    "# Create confusion matrix\n",
    "confus_matrix = confusion_matrix(y_test, y_test_predictions)"
   ]
  },
  {
   "cell_type": "code",
   "execution_count": 35,
   "id": "57bd5d97",
   "metadata": {},
   "outputs": [],
   "source": [
    "# Create pandas dataframe\n",
    "dataframe = pd.DataFrame(confus_matrix)"
   ]
  },
  {
   "cell_type": "code",
   "execution_count": 36,
   "id": "bd449084",
   "metadata": {},
   "outputs": [
    {
     "data": {
      "image/png": "[encoded data removed]",
      "text/plain": [
       "<Figure size 432x288 with 1 Axes>"
      ]
     },
     "metadata": {
      "needs_background": "light"
     },
     "output_type": "display_data"
    }
   ],
   "source": [
    "# Create heatmap\n",
    "sns.heatmap(dataframe, annot=True, cbar=None, cmap=\"Blues\")\n",
    "plt.title(\"Confusion Matrix\"), plt.tight_layout()\n",
    "plt.ylabel(\"True Class\"), plt.xlabel(\"Predicted Class\")\n",
    "plt.show()"
   ]
  },
  {
   "cell_type": "markdown",
   "id": "8967d3fa",
   "metadata": {},
   "source": [
    "#### Get the precision, recall, and F1-score for the test set predictions."
   ]
  },
  {
   "cell_type": "code",
   "execution_count": 37,
   "id": "1a1d057f",
   "metadata": {},
   "outputs": [
    {
     "data": {
      "text/plain": [
       "array([0.8429003 , 0.84153846, 0.82576867, 0.85692068, 0.83588957])"
      ]
     },
     "execution_count": 37,
     "metadata": {},
     "output_type": "execute_result"
    }
   ],
   "source": [
    "# Cross-validate model using precision\n",
    "cross_val_score(model, feature_test_matrix, y_test, scoring=\"precision\")"
   ]
  },
  {
   "cell_type": "code",
   "execution_count": 38,
   "id": "666a764e",
   "metadata": {},
   "outputs": [
    {
     "data": {
      "text/plain": [
       "array([0.8928, 0.8752, 0.9024, 0.8816, 0.872 ])"
      ]
     },
     "execution_count": 38,
     "metadata": {},
     "output_type": "execute_result"
    }
   ],
   "source": [
    "# Cross-validate model using recall\n",
    "cross_val_score(model, feature_test_matrix, y_test, scoring=\"recall\")"
   ]
  },
  {
   "cell_type": "code",
   "execution_count": 39,
   "id": "c26b3522",
   "metadata": {},
   "outputs": [
    {
     "data": {
      "text/plain": [
       "array([0.86713287, 0.85803922, 0.86238532, 0.86908517, 0.85356304])"
      ]
     },
     "execution_count": 39,
     "metadata": {},
     "output_type": "execute_result"
    }
   ],
   "source": [
    "# Cross-validate model using f1\n",
    "cross_val_score(model, feature_test_matrix, y_test, scoring=\"f1\")"
   ]
  },
  {
   "cell_type": "markdown",
   "id": "326b9b47",
   "metadata": {},
   "source": [
    "#### Create a ROC curve for the test set."
   ]
  },
  {
   "cell_type": "code",
   "execution_count": 40,
   "id": "31b59595",
   "metadata": {},
   "outputs": [],
   "source": [
    "from sklearn.metrics import roc_curve, roc_auc_score"
   ]
  },
  {
   "cell_type": "code",
   "execution_count": 41,
   "id": "68dbfe4f",
   "metadata": {},
   "outputs": [],
   "source": [
    "# Get predicted probabilities\n",
    "y_probabilities = logistic_regression.predict_proba(feature_test_matrix)[:,1]"
   ]
  },
  {
   "cell_type": "code",
   "execution_count": 42,
   "id": "f8e716d1",
   "metadata": {},
   "outputs": [],
   "source": [
    "# Create true and false positive rates\n",
    "false_positive_rate, true_positive_rate, threshold = roc_curve(y_test, y_probabilities)"
   ]
  },
  {
   "cell_type": "code",
   "execution_count": 43,
   "id": "7469ea42",
   "metadata": {},
   "outputs": [
    {
     "data": {
      "image/png": "[encoded data removed]",
      "text/plain": [
       "<Figure size 432x288 with 1 Axes>"
      ]
     },
     "metadata": {
      "needs_background": "light"
     },
     "output_type": "display_data"
    }
   ],
   "source": [
    "# Plot ROC curve\n",
    "plt.title(\"Receiver Operating Characteristic\")\n",
    "plt.plot(false_positive_rate, true_positive_rate)\n",
    "plt.plot([0, 1], ls=\"--\")\n",
    "plt.plot([0, 0], [1, 0] , c=\".7\"), plt.plot([1, 1] , c=\".7\")\n",
    "plt.ylabel(\"True Positive Rate\")\n",
    "plt.xlabel(\"False Positive Rate\")\n",
    "plt.show()"
   ]
  },
  {
   "cell_type": "markdown",
   "id": "89e4a2fa",
   "metadata": {},
   "source": [
    "#### Pick another classification model you learned about this week and repeat steps (5) – (9)."
   ]
  },
  {
   "cell_type": "markdown",
   "id": "f010cc0c",
   "metadata": {},
   "source": [
    "### Decision Tree Classifier"
   ]
  },
  {
   "cell_type": "markdown",
   "id": "361d01b5",
   "metadata": {},
   "source": [
    "#### Train a decision tree classifier using the training data."
   ]
  },
  {
   "cell_type": "code",
   "execution_count": 44,
   "id": "bd023023",
   "metadata": {},
   "outputs": [],
   "source": [
    "# Load libraries\n",
    "from sklearn.tree import DecisionTreeClassifier"
   ]
  },
  {
   "cell_type": "code",
   "execution_count": 45,
   "id": "9f57440f",
   "metadata": {},
   "outputs": [],
   "source": [
    "# Create decision tree classifier object\n",
    "decisiontree = DecisionTreeClassifier()"
   ]
  },
  {
   "cell_type": "code",
   "execution_count": 46,
   "id": "4124341a",
   "metadata": {},
   "outputs": [],
   "source": [
    "# Train model\n",
    "tree_model = decisiontree.fit(feature_train_matrix, y_train)"
   ]
  },
  {
   "cell_type": "markdown",
   "id": "a3d9c2dc",
   "metadata": {},
   "source": [
    "#### Find the model accuracy on test set."
   ]
  },
  {
   "cell_type": "code",
   "execution_count": 47,
   "id": "e2c330d5",
   "metadata": {},
   "outputs": [
    {
     "data": {
      "text/plain": [
       "array([0.6952, 0.696 , 0.7176, 0.6928, 0.696 ])"
      ]
     },
     "execution_count": 47,
     "metadata": {},
     "output_type": "execute_result"
    }
   ],
   "source": [
    "# Cross-validate model using accuracy\n",
    "cross_val_score(decisiontree, feature_test_matrix, y_test, scoring=\"accuracy\") "
   ]
  },
  {
   "cell_type": "code",
   "execution_count": 48,
   "id": "26fdb62d",
   "metadata": {},
   "outputs": [
    {
     "data": {
      "text/plain": [
       "array([0.6736, 0.6912, 0.7064, 0.7016, 0.6944])"
      ]
     },
     "execution_count": 48,
     "metadata": {},
     "output_type": "execute_result"
    }
   ],
   "source": [
    "# Is tree_model or decisiontree supposed to be the argument here??\n",
    "cross_val_score(tree_model, feature_test_matrix, y_test, scoring=\"accuracy\") "
   ]
  },
  {
   "cell_type": "code",
   "execution_count": 49,
   "id": "4d9be591",
   "metadata": {},
   "outputs": [],
   "source": [
    "y_test_tree_predictions = tree_model.predict(feature_test_matrix)"
   ]
  },
  {
   "cell_type": "code",
   "execution_count": 50,
   "id": "4ba113d6",
   "metadata": {},
   "outputs": [],
   "source": [
    "tree_accuracy_df = pd.DataFrame()\n",
    "tree_accuracy_df['y_test'] = y_test\n",
    "tree_accuracy_df['y_predict'] = y_test_tree_predictions\n",
    "tree_accuracy_df['compare'] = np.where(tree_accuracy_df['y_test'] == tree_accuracy_df['y_predict'], 1, 0)"
   ]
  },
  {
   "cell_type": "code",
   "execution_count": 51,
   "id": "2436fb82",
   "metadata": {},
   "outputs": [
    {
     "name": "stdout",
     "output_type": "stream",
     "text": [
      "The calculated accuracy of the model is 71.648%.\n"
     ]
    }
   ],
   "source": [
    "accuracy_score = (tree_accuracy_df['compare'].sum())/6250*100\n",
    "print(f'The calculated accuracy of the model is {accuracy_score}%.')"
   ]
  },
  {
   "cell_type": "markdown",
   "id": "381c7973",
   "metadata": {},
   "source": [
    "#### Create a confusion matrix for the test set predictions."
   ]
  },
  {
   "cell_type": "code",
   "execution_count": 52,
   "id": "e23e1056",
   "metadata": {},
   "outputs": [],
   "source": [
    "# Create confusion matrix\n",
    "tree_confus_matrix = confusion_matrix(y_test, y_test_tree_predictions)"
   ]
  },
  {
   "cell_type": "code",
   "execution_count": 53,
   "id": "b08ea0b7",
   "metadata": {},
   "outputs": [],
   "source": [
    "# Create pandas dataframe\n",
    "tree_dataframe = pd.DataFrame(tree_confus_matrix)"
   ]
  },
  {
   "cell_type": "code",
   "execution_count": 54,
   "id": "9f2b6423",
   "metadata": {},
   "outputs": [
    {
     "data": {
      "image/png": "[encoded data removed]",
      "text/plain": [
       "<Figure size 432x288 with 1 Axes>"
      ]
     },
     "metadata": {
      "needs_background": "light"
     },
     "output_type": "display_data"
    }
   ],
   "source": [
    "# Create heatmap\n",
    "sns.heatmap(tree_dataframe, annot=True, cbar=None, cmap=\"Blues\")\n",
    "plt.title(\"Confusion Matrix\"), plt.tight_layout()\n",
    "plt.ylabel(\"True Class\"), plt.xlabel(\"Predicted Class\")\n",
    "plt.show()"
   ]
  },
  {
   "cell_type": "markdown",
   "id": "8bbd8fe8",
   "metadata": {},
   "source": [
    "#### Get the precision, recall, and F1-score for the test set predictions."
   ]
  },
  {
   "cell_type": "code",
   "execution_count": 55,
   "id": "7a060636",
   "metadata": {},
   "outputs": [
    {
     "data": {
      "text/plain": [
       "array([0.69606299, 0.70818505, 0.69592476, 0.70854271, 0.6906585 ])"
      ]
     },
     "execution_count": 55,
     "metadata": {},
     "output_type": "execute_result"
    }
   ],
   "source": [
    "# Cross-validate model using precision\n",
    "cross_val_score(tree_model, feature_test_matrix, y_test, scoring=\"precision\")"
   ]
  },
  {
   "cell_type": "code",
   "execution_count": 56,
   "id": "472ceee2",
   "metadata": {},
   "outputs": [
    {
     "data": {
      "text/plain": [
       "array([0.6704, 0.6624, 0.7264, 0.68  , 0.7232])"
      ]
     },
     "execution_count": 56,
     "metadata": {},
     "output_type": "execute_result"
    }
   ],
   "source": [
    "# Cross-validate model using recall\n",
    "cross_val_score(tree_model, feature_test_matrix, y_test, scoring=\"recall\")"
   ]
  },
  {
   "cell_type": "code",
   "execution_count": 57,
   "id": "ccb6d28a",
   "metadata": {},
   "outputs": [
    {
     "data": {
      "text/plain": [
       "array([0.7       , 0.68595041, 0.71327573, 0.68200493, 0.70219436])"
      ]
     },
     "execution_count": 57,
     "metadata": {},
     "output_type": "execute_result"
    }
   ],
   "source": [
    "# Cross-validate model using f1\n",
    "cross_val_score(tree_model, feature_test_matrix, y_test, scoring=\"f1\")"
   ]
  },
  {
   "cell_type": "markdown",
   "id": "f049f215",
   "metadata": {},
   "source": [
    "#### Create a ROC curve for the test set."
   ]
  },
  {
   "cell_type": "code",
   "execution_count": 58,
   "id": "c7e11adb",
   "metadata": {},
   "outputs": [],
   "source": [
    "# Get predicted probabilities\n",
    "y_tree_probabilities = tree_model.predict_proba(feature_test_matrix)[:,1]"
   ]
  },
  {
   "cell_type": "code",
   "execution_count": 59,
   "id": "109ae3ea",
   "metadata": {},
   "outputs": [],
   "source": [
    "# Create true and false positive rates\n",
    "tree_false_positive_rate, tree_true_positive_rate, tree_threshold = roc_curve(y_test, y_tree_probabilities)"
   ]
  },
  {
   "cell_type": "code",
   "execution_count": 60,
   "id": "97f5909f",
   "metadata": {},
   "outputs": [
    {
     "data": {
      "image/png": "[encoded data removed]",
      "text/plain": [
       "<Figure size 432x288 with 1 Axes>"
      ]
     },
     "metadata": {
      "needs_background": "light"
     },
     "output_type": "display_data"
    }
   ],
   "source": [
    "# Plot ROC curve\n",
    "plt.title(\"Receiver Operating Characteristic\")\n",
    "plt.plot(tree_false_positive_rate, tree_true_positive_rate)\n",
    "plt.plot([0, 1], ls=\"--\")\n",
    "plt.plot([0, 0], [1, 0] , c=\".7\"), plt.plot([1, 1] , c=\".7\")\n",
    "plt.ylabel(\"True Positive Rate\")\n",
    "plt.xlabel(\"False Positive Rate\")\n",
    "plt.show()"
   ]
  }
 ],
 "metadata": {
  "kernelspec": {
   "display_name": "Python 3 (ipykernel)",
   "language": "python",
   "name": "python3"
  },
  "language_info": {
   "codemirror_mode": {
    "name": "ipython",
    "version": 3
   },
   "file_extension": ".py",
   "mimetype": "text/x-python",
   "name": "python",
   "nbconvert_exporter": "python",
   "pygments_lexer": "ipython3",
   "version": "3.9.7"
  }
 },
 "nbformat": 4,
 "nbformat_minor": 5
}
