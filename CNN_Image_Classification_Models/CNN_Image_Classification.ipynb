{
 "cells": [
  {
   "cell_type": "markdown",
   "metadata": {
    "id": "cyEJbHowDp6e"
   },
   "source": [
    "### KJ MoChroi   \n",
    "### Image Classification  \n",
    "### DSC650: Big Data  \n",
    "### Spring 2023  "
   ]
  },
  {
   "cell_type": "code",
   "execution_count": 1,
   "metadata": {
    "colab": {
     "base_uri": "https://localhost:8080/"
    },
    "executionInfo": {
     "elapsed": 24147,
     "status": "ok",
     "timestamp": 1684422831462,
     "user": {
      "displayName": "Karlie S.",
      "userId": "12983705592918383517"
     },
     "user_tz": 420
    },
    "id": "FxuUtUfyn2lh",
    "outputId": "4a7b8ad4-a5e9-4f6f-e1fa-0817d9339c91"
   },
   "outputs": [
    {
     "name": "stdout",
     "output_type": "stream",
     "text": [
      "Mounted at /content/drive\n",
      "/content/drive/My Drive/Colab Notebooks/DSC650/assignments/assignment06\n"
     ]
    }
   ],
   "source": [
    "# mounting drive to assignment06 folder\n",
    "import os\n",
    "from google.colab import drive\n",
    "drive.mount('/content/drive', force_remount = True)\n",
    "os.chdir('/content/drive/My Drive/Colab Notebooks/DSC650/assignments/assignment06')\n",
    "!pwd"
   ]
  },
  {
   "cell_type": "markdown",
   "metadata": {
    "id": "gP6MQFetDqRP"
   },
   "source": [
    "# CNN - MNIST Dataset Classification"
   ]
  },
  {
   "cell_type": "markdown",
   "metadata": {
    "id": "kj57g8r0M4SP"
   },
   "source": [
    "##Model"
   ]
  },
  {
   "cell_type": "code",
   "execution_count": 2,
   "metadata": {
    "colab": {
     "base_uri": "https://localhost:8080/"
    },
    "executionInfo": {
     "elapsed": 4538,
     "status": "ok",
     "timestamp": 1684422835994,
     "user": {
      "displayName": "Karlie S.",
      "userId": "12983705592918383517"
     },
     "user_tz": 420
    },
    "id": "1BdLUjY1EGYD",
    "outputId": "b232ee29-1ce0-497e-96df-5bef0cec28ec"
   },
   "outputs": [
    {
     "name": "stdout",
     "output_type": "stream",
     "text": [
      "Looking in indexes: https://pypi.org/simple, https://us-python.pkg.dev/colab-wheels/public/simple/\n",
      "Requirement already satisfied: keras in /usr/local/lib/python3.10/dist-packages (2.12.0)\n"
     ]
    }
   ],
   "source": [
    "!pip install keras"
   ]
  },
  {
   "cell_type": "code",
   "execution_count": 3,
   "metadata": {
    "executionInfo": {
     "elapsed": 3224,
     "status": "ok",
     "timestamp": 1684422839208,
     "user": {
      "displayName": "Karlie S.",
      "userId": "12983705592918383517"
     },
     "user_tz": 420
    },
    "id": "XR6zRHjuEDTv"
   },
   "outputs": [],
   "source": [
    "# Libraries\n",
    "import pandas as pd\n",
    "import numpy as np\n",
    "import matplotlib.pyplot as plt\n",
    "import keras\n",
    "import tensorflow\n",
    "from keras import layers\n",
    "from keras import models\n",
    "from keras.datasets import mnist\n",
    "from keras.datasets import cifar10\n",
    "from keras.utils import to_categorical\n"
   ]
  },
  {
   "cell_type": "code",
   "execution_count": 4,
   "metadata": {
    "colab": {
     "base_uri": "https://localhost:8080/"
    },
    "executionInfo": {
     "elapsed": 1360,
     "status": "ok",
     "timestamp": 1684422840554,
     "user": {
      "displayName": "Karlie S.",
      "userId": "12983705592918383517"
     },
     "user_tz": 420
    },
    "id": "pYaJ3JFLFGlq",
    "outputId": "11b28446-2864-4f9e-fa36-1d9cc4ee913d"
   },
   "outputs": [
    {
     "name": "stdout",
     "output_type": "stream",
     "text": [
      "Downloading data from https://storage.googleapis.com/tensorflow/tf-keras-datasets/mnist.npz\n",
      "11490434/11490434 [==============================] - 0s 0us/step\n"
     ]
    }
   ],
   "source": [
    "# import data\n",
    "(train_images, train_labels), (test_images, test_labels) = mnist.load_data()"
   ]
  },
  {
   "cell_type": "code",
   "execution_count": 5,
   "metadata": {
    "executionInfo": {
     "elapsed": 7,
     "status": "ok",
     "timestamp": 1684422840555,
     "user": {
      "displayName": "Karlie S.",
      "userId": "12983705592918383517"
     },
     "user_tz": 420
    },
    "id": "idVQwINVFGv0"
   },
   "outputs": [],
   "source": [
    "# reshape and reformat data\n",
    "\n",
    "train_images = train_images.reshape((train_images.shape[0], 28, 28, 1))\n",
    "train_images = train_images.astype('float32')/255\n",
    "\n",
    "test_images = test_images.reshape((test_images.shape[0], 28, 28, 1))\n",
    "test_images = test_images.astype('float32')/255\n",
    "\n",
    "train_labels = to_categorical(train_labels)\n",
    "test_labels = to_categorical(test_labels)"
   ]
  },
  {
   "cell_type": "code",
   "execution_count": 6,
   "metadata": {
    "executionInfo": {
     "elapsed": 2886,
     "status": "ok",
     "timestamp": 1684422843435,
     "user": {
      "displayName": "Karlie S.",
      "userId": "12983705592918383517"
     },
     "user_tz": 420
    },
    "id": "8p8j77hMFG1W"
   },
   "outputs": [],
   "source": [
    "# generate instance of sequential model\n",
    "model = models.Sequential()\n",
    "model.add(layers.Conv2D(32, (3,3), activation='relu', input_shape=(28,28,1)))\n",
    "model.add(layers.MaxPooling2D((2,2)))\n",
    "model.add(layers.Conv2D(64, (3,3), activation='relu'))\n",
    "model.add(layers.MaxPooling2D((2,2)))\n",
    "model.add(layers.Conv2D(64, (3,3), activation='relu'))\n",
    "model.add(layers.Flatten())\n",
    "model.add(layers.Dense(64, activation='relu'))\n",
    "model.add(layers.Dense(10, activation='softmax'))"
   ]
  },
  {
   "cell_type": "code",
   "execution_count": 7,
   "metadata": {
    "executionInfo": {
     "elapsed": 15,
     "status": "ok",
     "timestamp": 1684422843437,
     "user": {
      "displayName": "Karlie S.",
      "userId": "12983705592918383517"
     },
     "user_tz": 420
    },
    "id": "wgvm0M9YFG4F"
   },
   "outputs": [],
   "source": [
    "# compile\n",
    "model.compile(optimizer='rmsprop', loss='categorical_crossentropy', metrics=['accuracy'])"
   ]
  },
  {
   "cell_type": "code",
   "execution_count": 8,
   "metadata": {
    "executionInfo": {
     "elapsed": 14,
     "status": "ok",
     "timestamp": 1684422843438,
     "user": {
      "displayName": "Karlie S.",
      "userId": "12983705592918383517"
     },
     "user_tz": 420
    },
    "id": "GQR8DRcRNwse"
   },
   "outputs": [],
   "source": [
    "# holdout validation\n",
    "\n",
    "validation_images = train_images[:10000]\n",
    "partial_train_images = train_images[10000:]\n",
    "\n",
    "validation_labels = train_labels[:10000]\n",
    "partial_train_labels = train_labels[10000:]"
   ]
  },
  {
   "cell_type": "code",
   "execution_count": 9,
   "metadata": {
    "executionInfo": {
     "elapsed": 13,
     "status": "ok",
     "timestamp": 1684422843439,
     "user": {
      "displayName": "Karlie S.",
      "userId": "12983705592918383517"
     },
     "user_tz": 420
    },
    "id": "ZUOeq3Tlpm8h"
   },
   "outputs": [],
   "source": [
    "# csvlogger\n",
    "from keras.callbacks import CSVLogger\n",
    "csv_logger = CSVLogger('results/CNN_mnist_training.log')"
   ]
  },
  {
   "cell_type": "code",
   "execution_count": 10,
   "metadata": {
    "colab": {
     "base_uri": "https://localhost:8080/"
    },
    "executionInfo": {
     "elapsed": 82865,
     "status": "ok",
     "timestamp": 1684422926293,
     "user": {
      "displayName": "Karlie S.",
      "userId": "12983705592918383517"
     },
     "user_tz": 420
    },
    "id": "5-0j5f7UFG6t",
    "outputId": "507b155c-f4b7-494a-910d-f423cd0be85a"
   },
   "outputs": [
    {
     "name": "stdout",
     "output_type": "stream",
     "text": [
      "Epoch 1/10\n",
      "782/782 [==============================] - 21s 10ms/step - loss: 0.2002 - accuracy: 0.9389 - val_loss: 0.1178 - val_accuracy: 0.9668\n",
      "Epoch 2/10\n",
      "782/782 [==============================] - 6s 8ms/step - loss: 0.0494 - accuracy: 0.9855 - val_loss: 0.0478 - val_accuracy: 0.9860\n",
      "Epoch 3/10\n",
      "782/782 [==============================] - 4s 5ms/step - loss: 0.0345 - accuracy: 0.9896 - val_loss: 0.0421 - val_accuracy: 0.9882\n",
      "Epoch 4/10\n",
      "782/782 [==============================] - 4s 5ms/step - loss: 0.0255 - accuracy: 0.9920 - val_loss: 0.0450 - val_accuracy: 0.9874\n",
      "Epoch 5/10\n",
      "782/782 [==============================] - 4s 5ms/step - loss: 0.0201 - accuracy: 0.9940 - val_loss: 0.0383 - val_accuracy: 0.9903\n",
      "Epoch 6/10\n",
      "782/782 [==============================] - 4s 4ms/step - loss: 0.0159 - accuracy: 0.9949 - val_loss: 0.0493 - val_accuracy: 0.9871\n",
      "Epoch 7/10\n",
      "782/782 [==============================] - 4s 5ms/step - loss: 0.0127 - accuracy: 0.9962 - val_loss: 0.0407 - val_accuracy: 0.9896\n",
      "Epoch 8/10\n",
      "782/782 [==============================] - 6s 7ms/step - loss: 0.0105 - accuracy: 0.9966 - val_loss: 0.0399 - val_accuracy: 0.9909\n",
      "Epoch 9/10\n",
      "782/782 [==============================] - 4s 5ms/step - loss: 0.0093 - accuracy: 0.9974 - val_loss: 0.0420 - val_accuracy: 0.9899\n",
      "Epoch 10/10\n",
      "782/782 [==============================] - 4s 5ms/step - loss: 0.0073 - accuracy: 0.9977 - val_loss: 0.0493 - val_accuracy: 0.9908\n"
     ]
    }
   ],
   "source": [
    "#  train model\n",
    "history = model.fit(partial_train_images, \n",
    "                    partial_train_labels, \n",
    "                    epochs=10, \n",
    "                    batch_size=64,\n",
    "                    validation_data=(validation_images,validation_labels),\n",
    "                    callbacks=[csv_logger])"
   ]
  },
  {
   "cell_type": "code",
   "execution_count": 11,
   "metadata": {
    "colab": {
     "base_uri": "https://localhost:8080/"
    },
    "executionInfo": {
     "elapsed": 2362,
     "status": "ok",
     "timestamp": 1684422928648,
     "user": {
      "displayName": "Karlie S.",
      "userId": "12983705592918383517"
     },
     "user_tz": 420
    },
    "id": "fHxXYfsjmcV0",
    "outputId": "27274006-9f13-4e76-ba52-db566204045f"
   },
   "outputs": [
    {
     "name": "stderr",
     "output_type": "stream",
     "text": [
      "WARNING:absl:Found untraced functions such as _jit_compiled_convolution_op, _jit_compiled_convolution_op, _jit_compiled_convolution_op while saving (showing 3 of 3). These functions will not be directly callable after loading.\n"
     ]
    }
   ],
   "source": [
    "# save the model\n",
    "model.save('results/CNN_mnist_model')\n",
    "model.save('results/CNN_mnist_model.h5')"
   ]
  },
  {
   "cell_type": "markdown",
   "metadata": {
    "id": "oYln0ZqyM8Gd"
   },
   "source": [
    "## Predictions"
   ]
  },
  {
   "cell_type": "code",
   "execution_count": 12,
   "metadata": {
    "colab": {
     "base_uri": "https://localhost:8080/"
    },
    "executionInfo": {
     "elapsed": 2057,
     "status": "ok",
     "timestamp": 1684422930698,
     "user": {
      "displayName": "Karlie S.",
      "userId": "12983705592918383517"
     },
     "user_tz": 420
    },
    "id": "mtbZUmv9eIzS",
    "outputId": "6b3efe82-854f-4ddb-b8d3-8e24d42d582f"
   },
   "outputs": [
    {
     "name": "stdout",
     "output_type": "stream",
     "text": [
      "313/313 [==============================] - 1s 2ms/step\n"
     ]
    }
   ],
   "source": [
    "predictions = model.predict(test_images)\n",
    "predictions.tofile('results/CNN_mnist_predictions.csv', sep = ',')"
   ]
  },
  {
   "cell_type": "code",
   "execution_count": 13,
   "metadata": {
    "executionInfo": {
     "elapsed": 10,
     "status": "ok",
     "timestamp": 1684422930699,
     "user": {
      "displayName": "Karlie S.",
      "userId": "12983705592918383517"
     },
     "user_tz": 420
    },
    "id": "MiBGA4sAeYIY"
   },
   "outputs": [],
   "source": [
    "max_test_labels = np.argmax(test_labels, axis=1)\n",
    "\n",
    "max_predictions = np.argmax(predictions, axis=1)"
   ]
  },
  {
   "cell_type": "code",
   "execution_count": 14,
   "metadata": {
    "colab": {
     "base_uri": "https://localhost:8080/",
     "height": 617
    },
    "executionInfo": {
     "elapsed": 2228,
     "status": "ok",
     "timestamp": 1684422932919,
     "user": {
      "displayName": "Karlie S.",
      "userId": "12983705592918383517"
     },
     "user_tz": 420
    },
    "id": "rjzrrzC6i4Lf",
    "outputId": "fcddb29a-cee7-4f6f-b8c9-566d523c1b8b"
   },
   "outputs": [
    {
     "data": {
      "image/png": "[encoded data removed]",
      "text/plain": [
       "<Figure size 1000x600 with 2 Axes>"
      ]
     },
     "metadata": {},
     "output_type": "display_data"
    }
   ],
   "source": [
    "import seaborn as sns\n",
    "from sklearn.metrics import confusion_matrix\n",
    "\n",
    "confusion = confusion_matrix(max_test_labels, max_predictions)\n",
    "plt.figure(figsize=(10,6))\n",
    "fx=sns.heatmap(confusion, annot=True, fmt=\".0f\",cmap=\"GnBu\")\n",
    "fx.set_title('Confusion Matrix \\n');\n",
    "fx.set_xlabel('\\n Predicted Values\\n')\n",
    "fx.set_ylabel('Actual Values\\n');\n",
    "\n",
    "plt.savefig(\"results/CNN_mnist_confusionmatrix.png\")\n",
    "\n",
    "plt.show()"
   ]
  },
  {
   "cell_type": "markdown",
   "metadata": {
    "id": "2gnEQ-eKM_Qv"
   },
   "source": [
    "## Metrics"
   ]
  },
  {
   "cell_type": "code",
   "execution_count": 15,
   "metadata": {
    "colab": {
     "base_uri": "https://localhost:8080/"
    },
    "executionInfo": {
     "elapsed": 1889,
     "status": "ok",
     "timestamp": 1684422934800,
     "user": {
      "displayName": "Karlie S.",
      "userId": "12983705592918383517"
     },
     "user_tz": 420
    },
    "id": "A_jKeh0edse-",
    "outputId": "0fc585b1-f234-4178-813b-1834dbeccc61"
   },
   "outputs": [
    {
     "name": "stdout",
     "output_type": "stream",
     "text": [
      "313/313 [==============================] - 1s 3ms/step - loss: 0.0474 - accuracy: 0.9905\n"
     ]
    }
   ],
   "source": [
    "results = model.evaluate(test_images, test_labels)"
   ]
  },
  {
   "cell_type": "code",
   "execution_count": 16,
   "metadata": {
    "colab": {
     "base_uri": "https://localhost:8080/"
    },
    "executionInfo": {
     "elapsed": 11,
     "status": "ok",
     "timestamp": 1684422934800,
     "user": {
      "displayName": "Karlie S.",
      "userId": "12983705592918383517"
     },
     "user_tz": 420
    },
    "id": "-pJCdoRkjbWF",
    "outputId": "e59a4dc1-615b-4ea1-dcb9-f852892dd507"
   },
   "outputs": [
    {
     "name": "stdout",
     "output_type": "stream",
     "text": [
      "              precision    recall  f1-score   support\n",
      "\n",
      "           0       0.99      1.00      0.99       980\n",
      "           1       0.99      0.99      0.99      1135\n",
      "           2       1.00      0.98      0.99      1032\n",
      "           3       1.00      0.99      0.99      1010\n",
      "           4       0.99      0.99      0.99       982\n",
      "           5       0.98      0.99      0.99       892\n",
      "           6       0.99      0.99      0.99       958\n",
      "           7       0.99      0.99      0.99      1028\n",
      "           8       0.99      0.99      0.99       974\n",
      "           9       0.99      0.98      0.98      1009\n",
      "\n",
      "    accuracy                           0.99     10000\n",
      "   macro avg       0.99      0.99      0.99     10000\n",
      "weighted avg       0.99      0.99      0.99     10000\n",
      "\n"
     ]
    }
   ],
   "source": [
    "from sklearn.metrics import classification_report\n",
    "class_report = classification_report(max_test_labels, max_predictions)\n",
    "print(class_report)\n",
    "#open text file\n",
    "text_file = open(\"results/CNN_mnist_metrics.txt\", \"w\")\n",
    "\n",
    "#write string to file\n",
    "text_file.write(class_report)\n",
    "\n",
    "#close file\n",
    "text_file.close()\n"
   ]
  },
  {
   "cell_type": "markdown",
   "metadata": {
    "id": "jat195WKNBB5"
   },
   "source": [
    "## Validation Plots"
   ]
  },
  {
   "cell_type": "code",
   "execution_count": 17,
   "metadata": {
    "colab": {
     "base_uri": "https://localhost:8080/",
     "height": 472
    },
    "executionInfo": {
     "elapsed": 393,
     "status": "ok",
     "timestamp": 1684422935186,
     "user": {
      "displayName": "Karlie S.",
      "userId": "12983705592918383517"
     },
     "user_tz": 420
    },
    "id": "LOMxHuiRjsn8",
    "outputId": "d5526484-4c9c-4691-c0ba-01616da71b15"
   },
   "outputs": [
    {
     "data": {
      "image/png": "[encoded data removed]",
      "text/plain": [
       "<Figure size 640x480 with 1 Axes>"
      ]
     },
     "metadata": {},
     "output_type": "display_data"
    }
   ],
   "source": [
    "# plot loss\n",
    "\n",
    "loss = history.history['loss']\n",
    "val_loss = history.history['val_loss']\n",
    "\n",
    "epochs = range(1, len(loss)+1)\n",
    "\n",
    "plt.plot(epochs, loss, 'bo', label='Training loss')\n",
    "plt.plot(epochs, val_loss, 'b', label='Validation loss')\n",
    "plt.title('Training and Validation Loss')\n",
    "plt.xlabel('Epochs')\n",
    "plt.ylabel('Loss')\n",
    "plt.legend()\n",
    "\n",
    "plt.savefig(\"results/CNN_mnist_loss.png\")\n",
    "\n",
    "plt.show()"
   ]
  },
  {
   "cell_type": "code",
   "execution_count": 18,
   "metadata": {
    "colab": {
     "base_uri": "https://localhost:8080/",
     "height": 472
    },
    "executionInfo": {
     "elapsed": 545,
     "status": "ok",
     "timestamp": 1684422935724,
     "user": {
      "displayName": "Karlie S.",
      "userId": "12983705592918383517"
     },
     "user_tz": 420
    },
    "id": "L6qBB1tjkmyT",
    "outputId": "8ebc45e7-c3e6-448d-cf58-7acc546796a3"
   },
   "outputs": [
    {
     "data": {
      "image/png": "[encoded data removed]",
      "text/plain": [
       "<Figure size 640x480 with 1 Axes>"
      ]
     },
     "metadata": {},
     "output_type": "display_data"
    }
   ],
   "source": [
    "# plot accuracy\n",
    "\n",
    "plt.clf()\n",
    "\n",
    "acc = history.history['accuracy']\n",
    "val_acc = history.history['val_accuracy']\n",
    "\n",
    "plt.plot(epochs, acc, 'bo', label='Training accuracy')\n",
    "plt.plot(epochs, val_acc, 'b', label='Validation accuracy')\n",
    "plt.title('Training and Validation Accuracy')\n",
    "plt.xlabel('Epochs')\n",
    "plt.ylabel('Accuracy')\n",
    "plt.legend()\n",
    "\n",
    "plt.savefig(\"results/CNN_mnist_accuracy.png\")\n",
    "\n",
    "plt.show()"
   ]
  },
  {
   "cell_type": "markdown",
   "metadata": {
    "id": "JSrs4duIMnRm"
   },
   "source": [
    "# CNN - CIFAR10 Small Image Classification Dataset"
   ]
  },
  {
   "cell_type": "markdown",
   "metadata": {
    "id": "oOF_wOI1Ysyn"
   },
   "source": [
    "## Model"
   ]
  },
  {
   "cell_type": "code",
   "execution_count": 19,
   "metadata": {
    "colab": {
     "base_uri": "https://localhost:8080/"
    },
    "executionInfo": {
     "elapsed": 3824,
     "status": "ok",
     "timestamp": 1684422939535,
     "user": {
      "displayName": "Karlie S.",
      "userId": "12983705592918383517"
     },
     "user_tz": 420
    },
    "id": "qwfRVO3fFG9H",
    "outputId": "f19213e5-80ff-4d90-9d94-55b37fe7b52d"
   },
   "outputs": [
    {
     "name": "stdout",
     "output_type": "stream",
     "text": [
      "Downloading data from https://www.cs.toronto.edu/~kriz/cifar-10-python.tar.gz\n",
      "170498071/170498071 [==============================] - 2s 0us/step\n"
     ]
    }
   ],
   "source": [
    "# load data\n",
    " \n",
    "(x_train, y_train), (x_test, y_test) = keras.datasets.cifar10.load_data()\n",
    "assert x_train.shape == (50000, 32, 32, 3)\n",
    "assert x_test.shape == (10000, 32, 32, 3)\n",
    "assert y_train.shape == (50000, 1)\n",
    "assert y_test.shape == (10000, 1)"
   ]
  },
  {
   "cell_type": "code",
   "execution_count": 20,
   "metadata": {
    "executionInfo": {
     "elapsed": 260,
     "status": "ok",
     "timestamp": 1684422939776,
     "user": {
      "displayName": "Karlie S.",
      "userId": "12983705592918383517"
     },
     "user_tz": 420
    },
    "id": "hU5lkl0SFG_o"
   },
   "outputs": [],
   "source": [
    "y_train = to_categorical(y_train)\n",
    "y_test = to_categorical(y_test)"
   ]
  },
  {
   "cell_type": "code",
   "execution_count": 21,
   "metadata": {
    "executionInfo": {
     "elapsed": 10,
     "status": "ok",
     "timestamp": 1684422939778,
     "user": {
      "displayName": "Karlie S.",
      "userId": "12983705592918383517"
     },
     "user_tz": 420
    },
    "id": "OkB00FIhU40O"
   },
   "outputs": [],
   "source": [
    "# holdout validation\n",
    "\n",
    "x_val = x_train[:10000]\n",
    "partial_x_train = x_train[10000:]\n",
    "\n",
    "y_val = y_train[:10000]\n",
    "partial_y_train = y_train[10000:]"
   ]
  },
  {
   "cell_type": "code",
   "execution_count": 22,
   "metadata": {
    "executionInfo": {
     "elapsed": 10,
     "status": "ok",
     "timestamp": 1684422939779,
     "user": {
      "displayName": "Karlie S.",
      "userId": "12983705592918383517"
     },
     "user_tz": 420
    },
    "id": "_hHomioJbS5R"
   },
   "outputs": [],
   "source": [
    "from keras.preprocessing.image import ImageDataGenerator"
   ]
  },
  {
   "cell_type": "code",
   "execution_count": 23,
   "metadata": {
    "executionInfo": {
     "elapsed": 351,
     "status": "ok",
     "timestamp": 1684422940121,
     "user": {
      "displayName": "Karlie S.",
      "userId": "12983705592918383517"
     },
     "user_tz": 420
    },
    "id": "ilSGDQrcbXwP"
   },
   "outputs": [],
   "source": [
    "train_datagen = ImageDataGenerator(rescale=1./255)\n",
    "test_datagen = ImageDataGenerator(rescale=1./255)\n",
    "\n",
    "# train_datagen.fit(x_train)\n",
    "\n",
    "batch_size = 32 \n",
    "\n",
    "train_generator = train_datagen.flow(x_train, \n",
    "                                     y_train,\n",
    "                                     batch_size=batch_size,\n",
    "                                     shuffle=False)\n",
    "\n",
    "validation_generator = test_datagen.flow(x_val,\n",
    "                                         y_val,\n",
    "                                         batch_size=batch_size,\n",
    "                                         shuffle=False)\n",
    "\n",
    "test_generator = test_datagen.flow(\n",
    "    x_test,\n",
    "    y_test,\n",
    "    batch_size=batch_size,\n",
    "    shuffle=False)"
   ]
  },
  {
   "cell_type": "code",
   "execution_count": 24,
   "metadata": {
    "executionInfo": {
     "elapsed": 11,
     "status": "ok",
     "timestamp": 1684422940123,
     "user": {
      "displayName": "Karlie S.",
      "userId": "12983705592918383517"
     },
     "user_tz": 420
    },
    "id": "xrw6StNwU5CO"
   },
   "outputs": [],
   "source": [
    "# model\n",
    "\n",
    "model = models.Sequential()\n",
    "model.add(layers.Conv2D(32, (3,3), activation='relu', input_shape=(32,32,3))) # output shape (30, 30, 32)\n",
    "model.add(layers.MaxPooling2D((2,2))) # output shape (15, 15, 32)\n",
    "model.add(layers.Conv2D(64, (3,3), activation='relu')) # output shape (13, 13, 64)\n",
    "model.add(layers.MaxPooling2D((2,2))) # output shape (6, 6, 64)\n",
    "model.add(layers.Flatten())\n",
    "model.add(layers.Dense(512, activation='relu'))\n",
    "model.add(layers.Dense(10, activation='softmax'))"
   ]
  },
  {
   "cell_type": "code",
   "execution_count": 25,
   "metadata": {
    "executionInfo": {
     "elapsed": 11,
     "status": "ok",
     "timestamp": 1684422940124,
     "user": {
      "displayName": "Karlie S.",
      "userId": "12983705592918383517"
     },
     "user_tz": 420
    },
    "id": "WDOP8_NjU47Y"
   },
   "outputs": [],
   "source": [
    "# compile\n",
    "model.compile(optimizer='rmsprop', \n",
    "              loss='categorical_crossentropy', \n",
    "              metrics=['accuracy'])"
   ]
  },
  {
   "cell_type": "code",
   "execution_count": 26,
   "metadata": {
    "executionInfo": {
     "elapsed": 10,
     "status": "ok",
     "timestamp": 1684422940124,
     "user": {
      "displayName": "Karlie S.",
      "userId": "12983705592918383517"
     },
     "user_tz": 420
    },
    "id": "CcXDii1DU4tn"
   },
   "outputs": [],
   "source": [
    "# csvlogger\n",
    "from keras.callbacks import CSVLogger\n",
    "csv_logger = CSVLogger('results/CNN_cifar10_training.log')"
   ]
  },
  {
   "cell_type": "code",
   "execution_count": 27,
   "metadata": {
    "colab": {
     "base_uri": "https://localhost:8080/"
    },
    "executionInfo": {
     "elapsed": 303829,
     "status": "ok",
     "timestamp": 1684423243943,
     "user": {
      "displayName": "Karlie S.",
      "userId": "12983705592918383517"
     },
     "user_tz": 420
    },
    "id": "GiKLa8pVU4nG",
    "outputId": "b430d561-d761-41eb-d2b4-13f962053c22"
   },
   "outputs": [
    {
     "name": "stdout",
     "output_type": "stream",
     "text": [
      "Epoch 1/30\n",
      "1562/1562 [==============================] - 11s 6ms/step - loss: 1.4046 - accuracy: 0.5003 - val_loss: 0.9945 - val_accuracy: 0.6369\n",
      "Epoch 2/30\n",
      "1562/1562 [==============================] - 9s 5ms/step - loss: 0.9994 - accuracy: 0.6528 - val_loss: 0.7725 - val_accuracy: 0.7344\n",
      "Epoch 3/30\n",
      "1562/1562 [==============================] - 8s 5ms/step - loss: 0.8096 - accuracy: 0.7213 - val_loss: 0.6642 - val_accuracy: 0.7688\n",
      "Epoch 4/30\n",
      "1562/1562 [==============================] - 9s 6ms/step - loss: 0.6627 - accuracy: 0.7726 - val_loss: 0.5261 - val_accuracy: 0.8263\n",
      "Epoch 5/30\n",
      "1562/1562 [==============================] - 9s 6ms/step - loss: 0.5367 - accuracy: 0.8167 - val_loss: 0.3989 - val_accuracy: 0.8562\n",
      "Epoch 6/30\n",
      "1562/1562 [==============================] - 9s 6ms/step - loss: 0.4266 - accuracy: 0.8543 - val_loss: 0.2688 - val_accuracy: 0.9187\n",
      "Epoch 7/30\n",
      "1562/1562 [==============================] - 8s 5ms/step - loss: 0.3345 - accuracy: 0.8869 - val_loss: 0.2933 - val_accuracy: 0.8913\n",
      "Epoch 8/30\n",
      "1562/1562 [==============================] - 9s 6ms/step - loss: 0.2583 - accuracy: 0.9129 - val_loss: 0.1402 - val_accuracy: 0.9556\n",
      "Epoch 9/30\n",
      "1562/1562 [==============================] - 9s 6ms/step - loss: 0.2022 - accuracy: 0.9322 - val_loss: 0.0839 - val_accuracy: 0.9694\n",
      "Epoch 10/30\n",
      "1562/1562 [==============================] - 8s 5ms/step - loss: 0.1607 - accuracy: 0.9463 - val_loss: 0.1001 - val_accuracy: 0.9694\n",
      "Epoch 11/30\n",
      "1562/1562 [==============================] - 9s 6ms/step - loss: 0.1317 - accuracy: 0.9562 - val_loss: 0.0648 - val_accuracy: 0.9781\n",
      "Epoch 12/30\n",
      "1562/1562 [==============================] - 9s 6ms/step - loss: 0.1180 - accuracy: 0.9626 - val_loss: 0.0417 - val_accuracy: 0.9862\n",
      "Epoch 13/30\n",
      "1562/1562 [==============================] - 8s 5ms/step - loss: 0.1027 - accuracy: 0.9680 - val_loss: 0.0757 - val_accuracy: 0.9737\n",
      "Epoch 14/30\n",
      "1562/1562 [==============================] - 9s 6ms/step - loss: 0.0911 - accuracy: 0.9714 - val_loss: 0.0328 - val_accuracy: 0.9894\n",
      "Epoch 15/30\n",
      "1562/1562 [==============================] - 9s 6ms/step - loss: 0.0835 - accuracy: 0.9739 - val_loss: 0.0479 - val_accuracy: 0.9844\n",
      "Epoch 16/30\n",
      "1562/1562 [==============================] - 9s 6ms/step - loss: 0.0735 - accuracy: 0.9774 - val_loss: 0.0211 - val_accuracy: 0.9937\n",
      "Epoch 17/30\n",
      "1562/1562 [==============================] - 8s 5ms/step - loss: 0.0712 - accuracy: 0.9790 - val_loss: 0.0346 - val_accuracy: 0.9862\n",
      "Epoch 18/30\n",
      "1562/1562 [==============================] - 9s 6ms/step - loss: 0.0697 - accuracy: 0.9801 - val_loss: 0.1002 - val_accuracy: 0.9750\n",
      "Epoch 19/30\n",
      "1562/1562 [==============================] - 9s 6ms/step - loss: 0.0662 - accuracy: 0.9819 - val_loss: 0.0274 - val_accuracy: 0.9900\n",
      "Epoch 20/30\n",
      "1562/1562 [==============================] - 8s 5ms/step - loss: 0.0640 - accuracy: 0.9818 - val_loss: 0.0527 - val_accuracy: 0.9844\n",
      "Epoch 21/30\n",
      "1562/1562 [==============================] - 8s 5ms/step - loss: 0.0598 - accuracy: 0.9831 - val_loss: 0.0269 - val_accuracy: 0.9894\n",
      "Epoch 22/30\n",
      "1562/1562 [==============================] - 9s 6ms/step - loss: 0.0572 - accuracy: 0.9852 - val_loss: 0.0741 - val_accuracy: 0.9775\n",
      "Epoch 23/30\n",
      "1562/1562 [==============================] - 10s 6ms/step - loss: 0.0550 - accuracy: 0.9856 - val_loss: 0.0410 - val_accuracy: 0.9875\n",
      "Epoch 24/30\n",
      "1562/1562 [==============================] - 8s 5ms/step - loss: 0.0545 - accuracy: 0.9860 - val_loss: 0.0366 - val_accuracy: 0.9906\n",
      "Epoch 25/30\n",
      "1562/1562 [==============================] - 9s 5ms/step - loss: 0.0497 - accuracy: 0.9873 - val_loss: 0.0575 - val_accuracy: 0.9875\n",
      "Epoch 26/30\n",
      "1562/1562 [==============================] - 9s 6ms/step - loss: 0.0513 - accuracy: 0.9878 - val_loss: 0.0217 - val_accuracy: 0.9931\n",
      "Epoch 27/30\n",
      "1562/1562 [==============================] - 10s 6ms/step - loss: 0.0460 - accuracy: 0.9885 - val_loss: 0.0152 - val_accuracy: 0.9956\n",
      "Epoch 28/30\n",
      "1562/1562 [==============================] - 8s 5ms/step - loss: 0.0480 - accuracy: 0.9885 - val_loss: 0.0320 - val_accuracy: 0.9919\n",
      "Epoch 29/30\n",
      "1562/1562 [==============================] - 11s 7ms/step - loss: 0.0490 - accuracy: 0.9890 - val_loss: 0.0386 - val_accuracy: 0.9875\n",
      "Epoch 30/30\n",
      "1562/1562 [==============================] - 9s 6ms/step - loss: 0.0471 - accuracy: 0.9890 - val_loss: 0.0556 - val_accuracy: 0.9881\n"
     ]
    }
   ],
   "source": [
    "#  train model\n",
    "train_generator.reset()\n",
    "validation_generator.reset()\n",
    "history = model.fit(train_generator,\n",
    "                              steps_per_epoch=len(x_train) // batch_size, \n",
    "                              epochs=30, \n",
    "                              validation_data=validation_generator,\n",
    "                              validation_steps=50,\n",
    "                              callbacks=[csv_logger])"
   ]
  },
  {
   "cell_type": "code",
   "execution_count": 28,
   "metadata": {
    "colab": {
     "base_uri": "https://localhost:8080/"
    },
    "executionInfo": {
     "elapsed": 2572,
     "status": "ok",
     "timestamp": 1684423246506,
     "user": {
      "displayName": "Karlie S.",
      "userId": "12983705592918383517"
     },
     "user_tz": 420
    },
    "id": "mgCd7NasU4gc",
    "outputId": "544b2909-50fb-451e-cb02-e66c5930e945"
   },
   "outputs": [
    {
     "name": "stderr",
     "output_type": "stream",
     "text": [
      "WARNING:absl:Found untraced functions such as _jit_compiled_convolution_op, _jit_compiled_convolution_op while saving (showing 2 of 2). These functions will not be directly callable after loading.\n"
     ]
    }
   ],
   "source": [
    "# save the model\n",
    "model.save('results/CNN_cifar10_model')\n",
    "model.save('results/CNN_cifar10_model.h5')"
   ]
  },
  {
   "cell_type": "markdown",
   "metadata": {
    "id": "xJGMLcVeUtkT"
   },
   "source": [
    "## Predictions"
   ]
  },
  {
   "cell_type": "code",
   "execution_count": 29,
   "metadata": {
    "colab": {
     "base_uri": "https://localhost:8080/"
    },
    "executionInfo": {
     "elapsed": 624,
     "status": "ok",
     "timestamp": 1684423247118,
     "user": {
      "displayName": "Karlie S.",
      "userId": "12983705592918383517"
     },
     "user_tz": 420
    },
    "id": "RBp7wv0vFHCX",
    "outputId": "a27ee584-a542-4c39-9d59-b1a049fe2ea5"
   },
   "outputs": [
    {
     "name": "stdout",
     "output_type": "stream",
     "text": [
      "312/312 [==============================] - 1s 3ms/step\n"
     ]
    }
   ],
   "source": [
    "test_generator.reset()\n",
    "predictions = model.predict(test_generator,steps = len(x_test) // batch_size)\n",
    "predictions.tofile('results/CNN_cifar10_predictions.csv', sep = ',')"
   ]
  },
  {
   "cell_type": "code",
   "execution_count": 30,
   "metadata": {
    "colab": {
     "base_uri": "https://localhost:8080/"
    },
    "executionInfo": {
     "elapsed": 11,
     "status": "ok",
     "timestamp": 1684423247119,
     "user": {
      "displayName": "Karlie S.",
      "userId": "12983705592918383517"
     },
     "user_tz": 420
    },
    "id": "oeGbM48a6zC_",
    "outputId": "7cb6519b-24e9-4cad-deaf-af02ae2a4228"
   },
   "outputs": [
    {
     "data": {
      "text/plain": [
       "(9984, 10)"
      ]
     },
     "execution_count": 30,
     "metadata": {},
     "output_type": "execute_result"
    }
   ],
   "source": [
    "predictions.shape"
   ]
  },
  {
   "cell_type": "code",
   "execution_count": 31,
   "metadata": {
    "executionInfo": {
     "elapsed": 408,
     "status": "ok",
     "timestamp": 1684423247522,
     "user": {
      "displayName": "Karlie S.",
      "userId": "12983705592918383517"
     },
     "user_tz": 420
    },
    "id": "Kf5hJP9C6s28"
   },
   "outputs": [],
   "source": [
    "max_y_test = np.argmax(y_test[:9984], axis=1)\n",
    "\n",
    "max_predictions = np.argmax(predictions, axis=1)"
   ]
  },
  {
   "cell_type": "code",
   "execution_count": 32,
   "metadata": {
    "colab": {
     "base_uri": "https://localhost:8080/",
     "height": 617
    },
    "executionInfo": {
     "elapsed": 1056,
     "status": "ok",
     "timestamp": 1684423248574,
     "user": {
      "displayName": "Karlie S.",
      "userId": "12983705592918383517"
     },
     "user_tz": 420
    },
    "id": "DIyhaKRZ6mpa",
    "outputId": "0056a5b9-f329-43f7-f1cb-acd1403e0c25"
   },
   "outputs": [
    {
     "data": {
      "image/png": "[encoded data removed]",
      "text/plain": [
       "<Figure size 1000x600 with 2 Axes>"
      ]
     },
     "metadata": {},
     "output_type": "display_data"
    }
   ],
   "source": [
    "import seaborn as sns\n",
    "from sklearn.metrics import confusion_matrix\n",
    "\n",
    "confusion = confusion_matrix(max_y_test, max_predictions)\n",
    "plt.figure(figsize=(10,6))\n",
    "fx=sns.heatmap(confusion, annot=True, fmt=\".0f\",cmap=\"GnBu\")\n",
    "fx.set_title('Confusion Matrix \\n');\n",
    "fx.set_xlabel('\\n Predicted Values\\n')\n",
    "fx.set_ylabel('Actual Values\\n');\n",
    "\n",
    "plt.savefig(\"results/CNN_cifar10_confusionmatrix.png\")\n",
    "\n",
    "plt.show()"
   ]
  },
  {
   "cell_type": "markdown",
   "metadata": {
    "id": "IX6H-UBWWNDv"
   },
   "source": [
    "## Metrics"
   ]
  },
  {
   "cell_type": "code",
   "execution_count": 33,
   "metadata": {
    "colab": {
     "base_uri": "https://localhost:8080/"
    },
    "executionInfo": {
     "elapsed": 885,
     "status": "ok",
     "timestamp": 1684423249441,
     "user": {
      "displayName": "Karlie S.",
      "userId": "12983705592918383517"
     },
     "user_tz": 420
    },
    "id": "S9Bmsb_rWOEP",
    "outputId": "3959444e-43ae-472f-98a4-08ba5399201e"
   },
   "outputs": [
    {
     "name": "stdout",
     "output_type": "stream",
     "text": [
      "313/313 [==============================] - 1s 4ms/step - loss: 4.7792 - accuracy: 0.6958\n"
     ]
    }
   ],
   "source": [
    "test_generator.reset()\n",
    "results = model.evaluate(test_generator)"
   ]
  },
  {
   "cell_type": "code",
   "execution_count": 34,
   "metadata": {
    "colab": {
     "base_uri": "https://localhost:8080/"
    },
    "executionInfo": {
     "elapsed": 884,
     "status": "ok",
     "timestamp": 1684423250322,
     "user": {
      "displayName": "Karlie S.",
      "userId": "12983705592918383517"
     },
     "user_tz": 420
    },
    "id": "Md_xijIiWfNH",
    "outputId": "a5dddb91-a23f-4fa1-eb12-5bb5d1141125"
   },
   "outputs": [
    {
     "name": "stdout",
     "output_type": "stream",
     "text": [
      "              precision    recall  f1-score   support\n",
      "\n",
      "           0       0.68      0.81      0.74       998\n",
      "           1       0.81      0.82      0.82       999\n",
      "           2       0.61      0.58      0.60       999\n",
      "           3       0.49      0.56      0.52       997\n",
      "           4       0.65      0.66      0.66      1000\n",
      "           5       0.64      0.52      0.58       997\n",
      "           6       0.74      0.80      0.77      1000\n",
      "           7       0.77      0.72      0.74       997\n",
      "           8       0.89      0.70      0.78       997\n",
      "           9       0.74      0.78      0.76      1000\n",
      "\n",
      "    accuracy                           0.70      9984\n",
      "   macro avg       0.70      0.70      0.70      9984\n",
      "weighted avg       0.70      0.70      0.70      9984\n",
      "\n"
     ]
    }
   ],
   "source": [
    "from sklearn.metrics import classification_report\n",
    "class_report = classification_report(max_y_test, max_predictions)\n",
    "print(class_report)\n",
    "\n",
    "#open text file\n",
    "text_file = open(\"results/CNN_cifar10_metrics.txt\", \"w\")\n",
    "\n",
    "#write string to file\n",
    "text_file.write(class_report)\n",
    "\n",
    "#close file\n",
    "text_file.close()"
   ]
  },
  {
   "cell_type": "markdown",
   "metadata": {
    "id": "K-3ACvXGXxAx"
   },
   "source": [
    "## Validation Plots"
   ]
  },
  {
   "cell_type": "code",
   "execution_count": 35,
   "metadata": {
    "colab": {
     "base_uri": "https://localhost:8080/",
     "height": 472
    },
    "executionInfo": {
     "elapsed": 795,
     "status": "ok",
     "timestamp": 1684423251115,
     "user": {
      "displayName": "Karlie S.",
      "userId": "12983705592918383517"
     },
     "user_tz": 420
    },
    "id": "lcf2mIk3XtaX",
    "outputId": "d4d76716-d3ef-46e0-e8f0-959897983dc6"
   },
   "outputs": [
    {
     "data": {
      "image/png": "[encoded data removed]",
      "text/plain": [
       "<Figure size 640x480 with 1 Axes>"
      ]
     },
     "metadata": {},
     "output_type": "display_data"
    }
   ],
   "source": [
    "# plot loss\n",
    "\n",
    "loss = history.history['loss']\n",
    "val_loss = history.history['val_loss']\n",
    "\n",
    "epochs = range(1, len(loss)+1)\n",
    "\n",
    "plt.plot(epochs, loss, 'bo', label='Training loss')\n",
    "plt.plot(epochs, val_loss, 'b', label='Validation loss')\n",
    "plt.title('Training and Validation Loss')\n",
    "plt.xlabel('Epochs')\n",
    "plt.ylabel('Loss')\n",
    "plt.legend()\n",
    "\n",
    "plt.savefig(\"results/CNN_cifar10_loss.png\")\n",
    "\n",
    "plt.show()"
   ]
  },
  {
   "cell_type": "code",
   "execution_count": 36,
   "metadata": {
    "colab": {
     "base_uri": "https://localhost:8080/",
     "height": 472
    },
    "executionInfo": {
     "elapsed": 214,
     "status": "ok",
     "timestamp": 1684423251321,
     "user": {
      "displayName": "Karlie S.",
      "userId": "12983705592918383517"
     },
     "user_tz": 420
    },
    "id": "oAJ3oDVlX8QP",
    "outputId": "4a5fafd5-daba-4195-afae-3469eea23b94"
   },
   "outputs": [
    {
     "data": {
      "image/png": "[encoded data removed]",
      "text/plain": [
       "<Figure size 640x480 with 1 Axes>"
      ]
     },
     "metadata": {},
     "output_type": "display_data"
    }
   ],
   "source": [
    "# plot accuracy\n",
    "\n",
    "plt.clf()\n",
    "\n",
    "acc = history.history['accuracy']\n",
    "val_acc = history.history['val_accuracy']\n",
    "\n",
    "plt.plot(epochs, acc, 'bo', label='Training accuracy')\n",
    "plt.plot(epochs, val_acc, 'b', label='Validation accuracy')\n",
    "plt.title('Training and Validation Accuracy')\n",
    "plt.xlabel('Epochs')\n",
    "plt.ylabel('Accuracy')\n",
    "plt.legend()\n",
    "\n",
    "plt.savefig(\"results/CNN_cifar10_accuracy.png\")\n",
    "\n",
    "plt.show()"
   ]
  },
  {
   "cell_type": "markdown",
   "metadata": {
    "id": "l8kDSvRqYMOb"
   },
   "source": [
    "# CNN - CIFAR10 Small Image Classification Dataset with dropout and data augmentation"
   ]
  },
  {
   "cell_type": "markdown",
   "metadata": {
    "id": "URyilnYXYxwK"
   },
   "source": [
    "## Model"
   ]
  },
  {
   "cell_type": "code",
   "execution_count": 37,
   "metadata": {
    "executionInfo": {
     "elapsed": 514,
     "status": "ok",
     "timestamp": 1684423251826,
     "user": {
      "displayName": "Karlie S.",
      "userId": "12983705592918383517"
     },
     "user_tz": 420
    },
    "id": "Jb4ET05Q_DTB"
   },
   "outputs": [],
   "source": [
    "# load data\n",
    " \n",
    "(x_train, y_train), (x_test, y_test) = keras.datasets.cifar10.load_data()\n",
    "assert x_train.shape == (50000, 32, 32, 3)\n",
    "assert x_test.shape == (10000, 32, 32, 3)\n",
    "assert y_train.shape == (50000, 1)\n",
    "assert y_test.shape == (10000, 1)"
   ]
  },
  {
   "cell_type": "code",
   "execution_count": 38,
   "metadata": {
    "executionInfo": {
     "elapsed": 9,
     "status": "ok",
     "timestamp": 1684423251827,
     "user": {
      "displayName": "Karlie S.",
      "userId": "12983705592918383517"
     },
     "user_tz": 420
    },
    "id": "6cUYdWLs_DTC"
   },
   "outputs": [],
   "source": [
    "y_train = to_categorical(y_train)\n",
    "y_test = to_categorical(y_test)"
   ]
  },
  {
   "cell_type": "code",
   "execution_count": 39,
   "metadata": {
    "executionInfo": {
     "elapsed": 7,
     "status": "ok",
     "timestamp": 1684423251827,
     "user": {
      "displayName": "Karlie S.",
      "userId": "12983705592918383517"
     },
     "user_tz": 420
    },
    "id": "raPPDrx3_DTC"
   },
   "outputs": [],
   "source": [
    "# holdout validation\n",
    "\n",
    "x_val = x_train[:10000]\n",
    "partial_x_train = x_train[10000:]\n",
    "\n",
    "y_val = y_train[:10000]\n",
    "partial_y_train = y_train[10000:]"
   ]
  },
  {
   "cell_type": "code",
   "execution_count": 40,
   "metadata": {
    "executionInfo": {
     "elapsed": 8,
     "status": "ok",
     "timestamp": 1684423251828,
     "user": {
      "displayName": "Karlie S.",
      "userId": "12983705592918383517"
     },
     "user_tz": 420
    },
    "id": "AZIiHSmp_DTD"
   },
   "outputs": [],
   "source": [
    "from keras.preprocessing.image import ImageDataGenerator"
   ]
  },
  {
   "cell_type": "code",
   "execution_count": 41,
   "metadata": {
    "executionInfo": {
     "elapsed": 1251,
     "status": "ok",
     "timestamp": 1684423253072,
     "user": {
      "displayName": "Karlie S.",
      "userId": "12983705592918383517"
     },
     "user_tz": 420
    },
    "id": "mpe5-V30_DTD"
   },
   "outputs": [],
   "source": [
    "train_datagen = ImageDataGenerator(\n",
    "    rescale=1./255,\n",
    "    rotation_range=40,\n",
    "    width_shift_range=0.2,\n",
    "    height_shift_range=0.2,\n",
    "    shear_range=0.2,\n",
    "    zoom_range=0.2,\n",
    "    horizontal_flip=True)\n",
    "\n",
    "test_datagen = ImageDataGenerator(rescale=1./255)\n",
    "\n",
    "# train_datagen.fit(x_train)\n",
    "\n",
    "batch_size = 32 \n",
    "\n",
    "train_generator = train_datagen.flow(x_train, \n",
    "                                     y_train,\n",
    "                                     batch_size=batch_size,\n",
    "                                     shuffle=False)\n",
    "\n",
    "validation_generator = test_datagen.flow(x_val,\n",
    "                                         y_val,\n",
    "                                         batch_size=batch_size,\n",
    "                                         shuffle=False)\n",
    "\n",
    "test_generator = test_datagen.flow(\n",
    "    x_test,\n",
    "    y_test,\n",
    "    batch_size=batch_size,\n",
    "    shuffle=False)"
   ]
  },
  {
   "cell_type": "code",
   "execution_count": 42,
   "metadata": {
    "executionInfo": {
     "elapsed": 10,
     "status": "ok",
     "timestamp": 1684423253073,
     "user": {
      "displayName": "Karlie S.",
      "userId": "12983705592918383517"
     },
     "user_tz": 420
    },
    "id": "XfOSWjft_DTD"
   },
   "outputs": [],
   "source": [
    "# model\n",
    "\n",
    "model = models.Sequential()\n",
    "model.add(layers.Conv2D(32, (3,3), activation='relu', input_shape=(32,32,3))) # output shape (30, 30, 32)\n",
    "model.add(layers.MaxPooling2D((2,2))) # output shape (15, 15, 32)\n",
    "model.add(layers.Conv2D(64, (3,3), activation='relu')) # output shape (13, 13, 64)\n",
    "model.add(layers.MaxPooling2D((2,2))) # output shape (6, 6, 64)\n",
    "model.add(layers.Flatten())\n",
    "model.add(layers.Dropout(0.5))\n",
    "model.add(layers.Dense(512, activation='relu'))\n",
    "model.add(layers.Dense(10, activation='softmax'))"
   ]
  },
  {
   "cell_type": "code",
   "execution_count": 43,
   "metadata": {
    "executionInfo": {
     "elapsed": 9,
     "status": "ok",
     "timestamp": 1684423253073,
     "user": {
      "displayName": "Karlie S.",
      "userId": "12983705592918383517"
     },
     "user_tz": 420
    },
    "id": "qt3k0rMZ_DTD"
   },
   "outputs": [],
   "source": [
    "# compile\n",
    "model.compile(optimizer='rmsprop', \n",
    "              loss='categorical_crossentropy', \n",
    "              metrics=['accuracy'])"
   ]
  },
  {
   "cell_type": "code",
   "execution_count": 44,
   "metadata": {
    "executionInfo": {
     "elapsed": 9,
     "status": "ok",
     "timestamp": 1684423253074,
     "user": {
      "displayName": "Karlie S.",
      "userId": "12983705592918383517"
     },
     "user_tz": 420
    },
    "id": "oBQmG-xl_DTD"
   },
   "outputs": [],
   "source": [
    "# csvlogger\n",
    "from keras.callbacks import CSVLogger\n",
    "csv_logger = CSVLogger('results/CNN_cifar10_augmented_training.log')"
   ]
  },
  {
   "cell_type": "code",
   "execution_count": 45,
   "metadata": {
    "colab": {
     "base_uri": "https://localhost:8080/"
    },
    "executionInfo": {
     "elapsed": 45235,
     "status": "ok",
     "timestamp": 1684424610432,
     "user": {
      "displayName": "Karlie S.",
      "userId": "12983705592918383517"
     },
     "user_tz": 420
    },
    "id": "_LxPdOVx_DTE",
    "outputId": "2dac5aeb-9de7-41a1-b7d5-5bf3b150dd73"
   },
   "outputs": [
    {
     "name": "stdout",
     "output_type": "stream",
     "text": [
      "Epoch 1/30\n",
      "1562/1562 [==============================] - 38s 23ms/step - loss: 1.8116 - accuracy: 0.3386 - val_loss: 1.5423 - val_accuracy: 0.4394\n",
      "Epoch 2/30\n",
      "1562/1562 [==============================] - 37s 24ms/step - loss: 1.6054 - accuracy: 0.4214 - val_loss: 1.3397 - val_accuracy: 0.5219\n",
      "Epoch 3/30\n",
      "1562/1562 [==============================] - 38s 24ms/step - loss: 1.5310 - accuracy: 0.4499 - val_loss: 1.2386 - val_accuracy: 0.5688\n",
      "Epoch 4/30\n",
      "1562/1562 [==============================] - 47s 30ms/step - loss: 1.4870 - accuracy: 0.4679 - val_loss: 1.1367 - val_accuracy: 0.6200\n",
      "Epoch 5/30\n",
      "1562/1562 [==============================] - 39s 25ms/step - loss: 1.4581 - accuracy: 0.4819 - val_loss: 1.0925 - val_accuracy: 0.6306\n",
      "Epoch 6/30\n",
      "1562/1562 [==============================] - 53s 34ms/step - loss: 1.4384 - accuracy: 0.4918 - val_loss: 1.2544 - val_accuracy: 0.5531\n",
      "Epoch 7/30\n",
      "1562/1562 [==============================] - 57s 37ms/step - loss: 1.4211 - accuracy: 0.4967 - val_loss: 1.1450 - val_accuracy: 0.5950\n",
      "Epoch 8/30\n",
      "1562/1562 [==============================] - 41s 26ms/step - loss: 1.4119 - accuracy: 0.5021 - val_loss: 1.1287 - val_accuracy: 0.6062\n",
      "Epoch 9/30\n",
      "1562/1562 [==============================] - 42s 27ms/step - loss: 1.4085 - accuracy: 0.5036 - val_loss: 1.2648 - val_accuracy: 0.5519\n",
      "Epoch 10/30\n",
      "1562/1562 [==============================] - 41s 26ms/step - loss: 1.3988 - accuracy: 0.5081 - val_loss: 1.1723 - val_accuracy: 0.5863\n",
      "Epoch 11/30\n",
      "1562/1562 [==============================] - 41s 26ms/step - loss: 1.3946 - accuracy: 0.5123 - val_loss: 1.0680 - val_accuracy: 0.6319\n",
      "Epoch 12/30\n",
      "1562/1562 [==============================] - 40s 25ms/step - loss: 1.3917 - accuracy: 0.5132 - val_loss: 1.0410 - val_accuracy: 0.6331\n",
      "Epoch 13/30\n",
      "1562/1562 [==============================] - 42s 27ms/step - loss: 1.3813 - accuracy: 0.5165 - val_loss: 1.1202 - val_accuracy: 0.6338\n",
      "Epoch 14/30\n",
      "1562/1562 [==============================] - 36s 23ms/step - loss: 1.3898 - accuracy: 0.5144 - val_loss: 1.0727 - val_accuracy: 0.6144\n",
      "Epoch 15/30\n",
      "1562/1562 [==============================] - 37s 23ms/step - loss: 1.3792 - accuracy: 0.5178 - val_loss: 1.0434 - val_accuracy: 0.6313\n",
      "Epoch 16/30\n",
      "1562/1562 [==============================] - 38s 24ms/step - loss: 1.3856 - accuracy: 0.5193 - val_loss: 1.0193 - val_accuracy: 0.6562\n",
      "Epoch 17/30\n",
      "1562/1562 [==============================] - 37s 24ms/step - loss: 1.3898 - accuracy: 0.5169 - val_loss: 1.0996 - val_accuracy: 0.6319\n",
      "Epoch 18/30\n",
      "1562/1562 [==============================] - 44s 28ms/step - loss: 1.3778 - accuracy: 0.5209 - val_loss: 1.2364 - val_accuracy: 0.5806\n",
      "Epoch 19/30\n",
      "1562/1562 [==============================] - 37s 24ms/step - loss: 1.3877 - accuracy: 0.5225 - val_loss: 1.0319 - val_accuracy: 0.6637\n",
      "Epoch 20/30\n",
      "1562/1562 [==============================] - 56s 36ms/step - loss: 1.3817 - accuracy: 0.5199 - val_loss: 1.0921 - val_accuracy: 0.6250\n",
      "Epoch 21/30\n",
      "1562/1562 [==============================] - 37s 24ms/step - loss: 1.3863 - accuracy: 0.5196 - val_loss: 1.0536 - val_accuracy: 0.6325\n",
      "Epoch 22/30\n",
      "1562/1562 [==============================] - 37s 24ms/step - loss: 1.3858 - accuracy: 0.5201 - val_loss: 1.1315 - val_accuracy: 0.6338\n",
      "Epoch 23/30\n",
      "1562/1562 [==============================] - 38s 25ms/step - loss: 1.3874 - accuracy: 0.5198 - val_loss: 1.0197 - val_accuracy: 0.6544\n",
      "Epoch 24/30\n",
      "1562/1562 [==============================] - 37s 24ms/step - loss: 1.3940 - accuracy: 0.5174 - val_loss: 1.2417 - val_accuracy: 0.6388\n",
      "Epoch 25/30\n",
      "1562/1562 [==============================] - 41s 26ms/step - loss: 1.3892 - accuracy: 0.5217 - val_loss: 1.0952 - val_accuracy: 0.6325\n",
      "Epoch 26/30\n",
      "1562/1562 [==============================] - 39s 25ms/step - loss: 1.3846 - accuracy: 0.5214 - val_loss: 1.1270 - val_accuracy: 0.6306\n",
      "Epoch 27/30\n",
      "1562/1562 [==============================] - 38s 24ms/step - loss: 1.3926 - accuracy: 0.5193 - val_loss: 1.0787 - val_accuracy: 0.6488\n",
      "Epoch 28/30\n",
      "1562/1562 [==============================] - 39s 25ms/step - loss: 1.4010 - accuracy: 0.5158 - val_loss: 1.1407 - val_accuracy: 0.5994\n",
      "Epoch 29/30\n",
      "1562/1562 [==============================] - 39s 25ms/step - loss: 1.4010 - accuracy: 0.5137 - val_loss: 1.0905 - val_accuracy: 0.6300\n",
      "Epoch 30/30\n",
      "1562/1562 [==============================] - 38s 24ms/step - loss: 1.3944 - accuracy: 0.5188 - val_loss: 1.0220 - val_accuracy: 0.6475\n"
     ]
    }
   ],
   "source": [
    "#  train model\n",
    "train_generator.reset()\n",
    "validation_generator.reset()\n",
    "history = model.fit(train_generator,\n",
    "                              steps_per_epoch=len(x_train) // batch_size, \n",
    "                              epochs=30, \n",
    "                              validation_data=validation_generator,\n",
    "                              validation_steps=50,\n",
    "                              callbacks=[csv_logger])"
   ]
  },
  {
   "cell_type": "code",
   "execution_count": 46,
   "metadata": {
    "colab": {
     "base_uri": "https://localhost:8080/"
    },
    "executionInfo": {
     "elapsed": 609,
     "status": "ok",
     "timestamp": 1684424611033,
     "user": {
      "displayName": "Karlie S.",
      "userId": "12983705592918383517"
     },
     "user_tz": 420
    },
    "id": "CBTg-1dN_DTE",
    "outputId": "1a41c90d-3251-48d7-98e1-fd7bc3e03017"
   },
   "outputs": [
    {
     "name": "stderr",
     "output_type": "stream",
     "text": [
      "WARNING:absl:Found untraced functions such as _jit_compiled_convolution_op, _jit_compiled_convolution_op while saving (showing 2 of 2). These functions will not be directly callable after loading.\n"
     ]
    }
   ],
   "source": [
    "# save the model\n",
    "model.save('results/CNN_cifar10_augmented_model')\n",
    "model.save('results/CNN_cifar10_augmented_model.h5')"
   ]
  },
  {
   "cell_type": "markdown",
   "metadata": {
    "id": "2dZ8BuIzYy9E"
   },
   "source": [
    "## Predictions"
   ]
  },
  {
   "cell_type": "code",
   "execution_count": 47,
   "metadata": {
    "colab": {
     "base_uri": "https://localhost:8080/"
    },
    "executionInfo": {
     "elapsed": 1755,
     "status": "ok",
     "timestamp": 1684424612789,
     "user": {
      "displayName": "Karlie S.",
      "userId": "12983705592918383517"
     },
     "user_tz": 420
    },
    "id": "eDU4CoYHAd4B",
    "outputId": "71557e8d-d449-44b1-fb13-82c35fe3e736"
   },
   "outputs": [
    {
     "name": "stdout",
     "output_type": "stream",
     "text": [
      "312/312 [==============================] - 1s 4ms/step\n"
     ]
    }
   ],
   "source": [
    "test_generator.reset()\n",
    "predictions = model.predict(test_generator,steps = len(x_test) // batch_size)\n",
    "predictions.tofile('results/CNN_cifar10_augmented_predictions.csv', sep = ',')"
   ]
  },
  {
   "cell_type": "code",
   "execution_count": 48,
   "metadata": {
    "colab": {
     "base_uri": "https://localhost:8080/"
    },
    "executionInfo": {
     "elapsed": 11,
     "status": "ok",
     "timestamp": 1684424612791,
     "user": {
      "displayName": "Karlie S.",
      "userId": "12983705592918383517"
     },
     "user_tz": 420
    },
    "id": "AzERD3MnAd4C",
    "outputId": "2f9bdec7-4661-491f-80bf-bdf649422524"
   },
   "outputs": [
    {
     "data": {
      "text/plain": [
       "(9984, 10)"
      ]
     },
     "execution_count": 48,
     "metadata": {},
     "output_type": "execute_result"
    }
   ],
   "source": [
    "predictions.shape"
   ]
  },
  {
   "cell_type": "code",
   "execution_count": 49,
   "metadata": {
    "executionInfo": {
     "elapsed": 4,
     "status": "ok",
     "timestamp": 1684424612792,
     "user": {
      "displayName": "Karlie S.",
      "userId": "12983705592918383517"
     },
     "user_tz": 420
    },
    "id": "YfBKlxvyAd4C"
   },
   "outputs": [],
   "source": [
    "max_y_test = np.argmax(y_test[:9984], axis=1)\n",
    "\n",
    "max_predictions = np.argmax(predictions, axis=1)"
   ]
  },
  {
   "cell_type": "code",
   "execution_count": 50,
   "metadata": {
    "colab": {
     "base_uri": "https://localhost:8080/",
     "height": 617
    },
    "executionInfo": {
     "elapsed": 733,
     "status": "ok",
     "timestamp": 1684424613521,
     "user": {
      "displayName": "Karlie S.",
      "userId": "12983705592918383517"
     },
     "user_tz": 420
    },
    "id": "QypkRiIHAd4C",
    "outputId": "042f1f74-24bc-4ef9-9358-6f40808acea7"
   },
   "outputs": [
    {
     "data": {
      "image/png": "[encoded data removed]",
      "text/plain": [
       "<Figure size 1000x600 with 2 Axes>"
      ]
     },
     "metadata": {},
     "output_type": "display_data"
    }
   ],
   "source": [
    "import seaborn as sns\n",
    "from sklearn.metrics import confusion_matrix\n",
    "\n",
    "confusion = confusion_matrix(max_y_test, max_predictions)\n",
    "plt.figure(figsize=(10,6))\n",
    "fx=sns.heatmap(confusion, annot=True, fmt=\".0f\",cmap=\"GnBu\")\n",
    "fx.set_title('Confusion Matrix \\n');\n",
    "fx.set_xlabel('\\n Predicted Values\\n')\n",
    "fx.set_ylabel('Actual Values\\n');\n",
    "\n",
    "plt.savefig(\"results/CNN_cifar10_augmented_confusionmatrix.png\")\n",
    "\n",
    "plt.show()"
   ]
  },
  {
   "cell_type": "markdown",
   "metadata": {
    "id": "2wfyN70eY1GF"
   },
   "source": [
    "## Metrics"
   ]
  },
  {
   "cell_type": "code",
   "execution_count": 51,
   "metadata": {
    "colab": {
     "base_uri": "https://localhost:8080/"
    },
    "executionInfo": {
     "elapsed": 2481,
     "status": "ok",
     "timestamp": 1684424615990,
     "user": {
      "displayName": "Karlie S.",
      "userId": "12983705592918383517"
     },
     "user_tz": 420
    },
    "id": "w4fFC5s-AxuK",
    "outputId": "830f6781-d646-4e0b-8897-b9d209320c68"
   },
   "outputs": [
    {
     "name": "stdout",
     "output_type": "stream",
     "text": [
      "313/313 [==============================] - 1s 5ms/step - loss: 1.0655 - accuracy: 0.6443\n"
     ]
    }
   ],
   "source": [
    "test_generator.reset()\n",
    "results = model.evaluate(test_generator)"
   ]
  },
  {
   "cell_type": "code",
   "execution_count": 52,
   "metadata": {
    "colab": {
     "base_uri": "https://localhost:8080/"
    },
    "executionInfo": {
     "elapsed": 7,
     "status": "ok",
     "timestamp": 1684424615998,
     "user": {
      "displayName": "Karlie S.",
      "userId": "12983705592918383517"
     },
     "user_tz": 420
    },
    "id": "vkGNmIhrAxuL",
    "outputId": "c8bbe656-fb11-415b-921e-1a8844ce1e6e"
   },
   "outputs": [
    {
     "name": "stdout",
     "output_type": "stream",
     "text": [
      "              precision    recall  f1-score   support\n",
      "\n",
      "           0       0.76      0.60      0.67       998\n",
      "           1       0.73      0.84      0.78       999\n",
      "           2       0.57      0.54      0.55       999\n",
      "           3       0.53      0.32      0.40       997\n",
      "           4       0.67      0.48      0.56      1000\n",
      "           5       0.56      0.61      0.58       997\n",
      "           6       0.68      0.72      0.70      1000\n",
      "           7       0.61      0.74      0.67       997\n",
      "           8       0.66      0.81      0.73       997\n",
      "           9       0.64      0.80      0.71      1000\n",
      "\n",
      "    accuracy                           0.64      9984\n",
      "   macro avg       0.64      0.64      0.64      9984\n",
      "weighted avg       0.64      0.64      0.64      9984\n",
      "\n"
     ]
    }
   ],
   "source": [
    "from sklearn.metrics import classification_report\n",
    "class_report = classification_report(max_y_test, max_predictions)\n",
    "print(class_report)\n",
    "\n",
    "#open text file\n",
    "text_file = open(\"results/CNN_cifar10_augmented_metrics.txt\", \"w\")\n",
    "\n",
    "#write string to file\n",
    "text_file.write(class_report)\n",
    "\n",
    "#close file\n",
    "text_file.close()"
   ]
  },
  {
   "cell_type": "markdown",
   "metadata": {
    "id": "2oCB0PHZY6ga"
   },
   "source": [
    "## Validation Plots"
   ]
  },
  {
   "cell_type": "code",
   "execution_count": 52,
   "metadata": {
    "executionInfo": {
     "elapsed": 713,
     "status": "ok",
     "timestamp": 1684424616710,
     "user": {
      "displayName": "Karlie S.",
      "userId": "12983705592918383517"
     },
     "user_tz": 420
    },
    "id": "AmPs0e3Cxzb3"
   },
   "outputs": [],
   "source": []
  },
  {
   "cell_type": "code",
   "execution_count": 53,
   "metadata": {
    "colab": {
     "base_uri": "https://localhost:8080/",
     "height": 472
    },
    "executionInfo": {
     "elapsed": 894,
     "status": "ok",
     "timestamp": 1684424617604,
     "user": {
      "displayName": "Karlie S.",
      "userId": "12983705592918383517"
     },
     "user_tz": 420
    },
    "id": "PkbJ87ZhA7Y5",
    "outputId": "989070bf-8522-4a3c-ddcb-3070b60eee8d"
   },
   "outputs": [
    {
     "data": {
      "image/png": "[encoded data removed]",
      "text/plain": [
       "<Figure size 640x480 with 1 Axes>"
      ]
     },
     "metadata": {},
     "output_type": "display_data"
    }
   ],
   "source": [
    "# plot loss\n",
    "\n",
    "loss = history.history['loss']\n",
    "val_loss = history.history['val_loss']\n",
    "\n",
    "epochs = range(1, len(loss)+1)\n",
    "\n",
    "plt.plot(epochs, loss, 'bo', label='Training loss')\n",
    "plt.plot(epochs, val_loss, 'b', label='Validation loss')\n",
    "plt.title('Training and Validation Loss')\n",
    "plt.xlabel('Epochs')\n",
    "plt.ylabel('Loss')\n",
    "plt.legend()\n",
    "\n",
    "plt.savefig(\"results/CNN_cifar10_augmented_loss.png\")\n",
    "\n",
    "plt.show()"
   ]
  },
  {
   "cell_type": "code",
   "execution_count": 54,
   "metadata": {
    "colab": {
     "base_uri": "https://localhost:8080/",
     "height": 472
    },
    "executionInfo": {
     "elapsed": 7,
     "status": "ok",
     "timestamp": 1684424617609,
     "user": {
      "displayName": "Karlie S.",
      "userId": "12983705592918383517"
     },
     "user_tz": 420
    },
    "id": "iAhkE8ztA7Y5",
    "outputId": "328f3fa4-cc15-4ec5-bd89-49d3e1fe6cbf"
   },
   "outputs": [
    {
     "data": {
      "image/png": "[encoded data removed]",
      "text/plain": [
       "<Figure size 640x480 with 1 Axes>"
      ]
     },
     "metadata": {},
     "output_type": "display_data"
    }
   ],
   "source": [
    "# plot accuracy\n",
    "\n",
    "plt.clf()\n",
    "\n",
    "acc = history.history['accuracy']\n",
    "val_acc = history.history['val_accuracy']\n",
    "\n",
    "plt.plot(epochs, acc, 'bo', label='Training accuracy')\n",
    "plt.plot(epochs, val_acc, 'b', label='Validation accuracy')\n",
    "plt.title('Training and Validation Accuracy')\n",
    "plt.xlabel('Epochs')\n",
    "plt.ylabel('Accuracy')\n",
    "plt.legend()\n",
    "\n",
    "plt.savefig(\"results/CNN_cifar10_augmented_accuracy.png\")\n",
    "\n",
    "plt.show()"
   ]
  },
  {
   "cell_type": "code",
   "execution_count": 54,
   "metadata": {
    "executionInfo": {
     "elapsed": 6,
     "status": "ok",
     "timestamp": 1684424617610,
     "user": {
      "displayName": "Karlie S.",
      "userId": "12983705592918383517"
     },
     "user_tz": 420
    },
    "id": "vXfuaCnVxzb4"
   },
   "outputs": [],
   "source": [
    "# I expected the model with augmentation and dropout to perform better than the model without"
   ]
  },
  {
   "cell_type": "markdown",
   "metadata": {
    "id": "9t_K5vV6dsxT"
   },
   "source": [
    "## Resnet50 Pretrained Model Predictions "
   ]
  },
  {
   "cell_type": "code",
   "execution_count": 56,
   "metadata": {
    "colab": {
     "base_uri": "https://localhost:8080/"
    },
    "executionInfo": {
     "elapsed": 6687,
     "status": "ok",
     "timestamp": 1684424672385,
     "user": {
      "displayName": "Karlie S.",
      "userId": "12983705592918383517"
     },
     "user_tz": 420
    },
    "id": "fy9m7E2QdyL-",
    "outputId": "11a803fa-e309-4674-f4a3-e94023888b8f"
   },
   "outputs": [
    {
     "name": "stdout",
     "output_type": "stream",
     "text": [
      "Downloading data from https://storage.googleapis.com/tensorflow/keras-applications/resnet/resnet50_weights_tf_dim_ordering_tf_kernels.h5\n",
      "102967424/102967424 [==============================] - 1s 0us/step\n"
     ]
    }
   ],
   "source": [
    "import tensorflow\n",
    "import keras\n",
    "from keras import applications\n",
    "from keras import preprocessing\n",
    "from tensorflow.keras.applications.resnet50 import ResNet50\n",
    "from tensorflow.keras.preprocessing import image\n",
    "from tensorflow.keras.applications.resnet50 import preprocess_input, decode_predictions\n",
    "import numpy as np\n",
    "\n",
    "model = ResNet50(weights='imagenet')"
   ]
  },
  {
   "cell_type": "code",
   "execution_count": 57,
   "metadata": {
    "colab": {
     "base_uri": "https://localhost:8080/"
    },
    "executionInfo": {
     "elapsed": 4153,
     "status": "ok",
     "timestamp": 1684424690944,
     "user": {
      "displayName": "Karlie S.",
      "userId": "12983705592918383517"
     },
     "user_tz": 420
    },
    "id": "OxgcCtTQgUsz",
    "outputId": "f0cc3d68-dc5b-4521-9736-98fe504926f6"
   },
   "outputs": [
    {
     "name": "stdout",
     "output_type": "stream",
     "text": [
      "1/1 [==============================] - 3s 3s/step\n",
      "Downloading data from https://storage.googleapis.com/download.tensorflow.org/data/imagenet_class_index.json\n",
      "35363/35363 [==============================] - 0s 0us/step\n",
      "Predicted: [('n09468604', 'valley', 0.38834167), ('n09246464', 'cliff', 0.09706052), ('n09332890', 'lakeside', 0.094666556)]\n"
     ]
    }
   ],
   "source": [
    "img_path = 'images/river.jpg'\n",
    "img = image.load_img(img_path, target_size=(224, 224))\n",
    "x = image.img_to_array(img)\n",
    "x = np.expand_dims(x, axis=0)\n",
    "x = preprocess_input(x)\n",
    "\n",
    "preds = model.predict(x)\n",
    "print('Predicted:', decode_predictions(preds, top=3)[0])"
   ]
  },
  {
   "cell_type": "code",
   "execution_count": 58,
   "metadata": {
    "colab": {
     "base_uri": "https://localhost:8080/"
    },
    "executionInfo": {
     "elapsed": 558,
     "status": "ok",
     "timestamp": 1684424723559,
     "user": {
      "displayName": "Karlie S.",
      "userId": "12983705592918383517"
     },
     "user_tz": 420
    },
    "id": "na0ubC2ggU-5",
    "outputId": "61cb8475-1e2d-4b9d-f145-67a1f774696a"
   },
   "outputs": [
    {
     "name": "stdout",
     "output_type": "stream",
     "text": [
      "1/1 [==============================] - 0s 27ms/step\n",
      "Predicted: [('n02793495', 'barn', 0.11131605), ('n04604644', 'worm_fence', 0.10649704), ('n11879895', 'rapeseed', 0.10641846)]\n"
     ]
    }
   ],
   "source": [
    "img_path = 'images/tree.jpg'\n",
    "img = image.load_img(img_path, target_size=(224, 224))\n",
    "x = image.img_to_array(img)\n",
    "x = np.expand_dims(x, axis=0)\n",
    "x = preprocess_input(x)\n",
    "\n",
    "preds = model.predict(x)\n",
    "print('Predicted:', decode_predictions(preds, top=3)[0])"
   ]
  },
  {
   "cell_type": "code",
   "execution_count": 59,
   "metadata": {
    "colab": {
     "base_uri": "https://localhost:8080/"
    },
    "executionInfo": {
     "elapsed": 612,
     "status": "ok",
     "timestamp": 1684424737795,
     "user": {
      "displayName": "Karlie S.",
      "userId": "12983705592918383517"
     },
     "user_tz": 420
    },
    "id": "pC9HCatTgVHD",
    "outputId": "48ec6ecf-1f3d-473a-fa7b-73b112118c77"
   },
   "outputs": [
    {
     "name": "stdout",
     "output_type": "stream",
     "text": [
      "1/1 [==============================] - 0s 36ms/step\n",
      "Predicted: [('n01514859', 'hen', 0.8507484), ('n01514668', 'cock', 0.14899172), ('n01855672', 'goose', 0.00017138451)]\n"
     ]
    }
   ],
   "source": [
    "img_path = 'images/chicken.jpg'\n",
    "img = image.load_img(img_path, target_size=(224, 224))\n",
    "x = image.img_to_array(img)\n",
    "x = np.expand_dims(x, axis=0)\n",
    "x = preprocess_input(x)\n",
    "\n",
    "preds = model.predict(x)\n",
    "print('Predicted:', decode_predictions(preds, top=3)[0])"
   ]
  },
  {
   "cell_type": "code",
   "execution_count": 60,
   "metadata": {
    "colab": {
     "base_uri": "https://localhost:8080/"
    },
    "executionInfo": {
     "elapsed": 727,
     "status": "ok",
     "timestamp": 1684424753153,
     "user": {
      "displayName": "Karlie S.",
      "userId": "12983705592918383517"
     },
     "user_tz": 420
    },
    "id": "39fQQDCXgVPf",
    "outputId": "9ebfa17b-49ef-45ff-ba94-400ed5cb89fe"
   },
   "outputs": [
    {
     "name": "stdout",
     "output_type": "stream",
     "text": [
      "1/1 [==============================] - 0s 43ms/step\n",
      "Predicted: [('n02423022', 'gazelle', 0.24799536), ('n02437616', 'llama', 0.23290879), ('n02410509', 'bison', 0.13938038)]\n"
     ]
    }
   ],
   "source": [
    "img_path = 'images/donkey.jpg'\n",
    "img = image.load_img(img_path, target_size=(224, 224))\n",
    "x = image.img_to_array(img)\n",
    "x = np.expand_dims(x, axis=0)\n",
    "x = preprocess_input(x)\n",
    "\n",
    "preds = model.predict(x)\n",
    "print('Predicted:', decode_predictions(preds, top=3)[0])"
   ]
  },
  {
   "cell_type": "code",
   "execution_count": 64,
   "metadata": {
    "colab": {
     "base_uri": "https://localhost:8080/"
    },
    "executionInfo": {
     "elapsed": 733,
     "status": "ok",
     "timestamp": 1684424796593,
     "user": {
      "displayName": "Karlie S.",
      "userId": "12983705592918383517"
     },
     "user_tz": 420
    },
    "id": "-_KlJcoqgVYf",
    "outputId": "6eb2b624-5f09-43c1-f660-0a956015f7e9"
   },
   "outputs": [
    {
     "name": "stdout",
     "output_type": "stream",
     "text": [
      "1/1 [==============================] - 0s 24ms/step\n",
      "Predicted: [('n04273569', 'speedboat', 0.50600773), ('n03344393', 'fireboat', 0.16579245), ('n09332890', 'lakeside', 0.10772088)]\n"
     ]
    }
   ],
   "source": [
    "img_path = 'images/boat.jpg'\n",
    "img = image.load_img(img_path, target_size=(224, 224))\n",
    "x = image.img_to_array(img)\n",
    "x = np.expand_dims(x, axis=0)\n",
    "x = preprocess_input(x)\n",
    "\n",
    "preds = model.predict(x)\n",
    "print('Predicted:', decode_predictions(preds, top=3)[0])"
   ]
  },
  {
   "cell_type": "code",
   "execution_count": 65,
   "metadata": {
    "colab": {
     "base_uri": "https://localhost:8080/"
    },
    "executionInfo": {
     "elapsed": 739,
     "status": "ok",
     "timestamp": 1684424815525,
     "user": {
      "displayName": "Karlie S.",
      "userId": "12983705592918383517"
     },
     "user_tz": 420
    },
    "id": "65Wl-TO0gVgE",
    "outputId": "2e7ec5ff-01d5-4f1a-b98c-e6999873eeed"
   },
   "outputs": [
    {
     "name": "stdout",
     "output_type": "stream",
     "text": [
      "1/1 [==============================] - 0s 77ms/step\n",
      "Predicted: [('n03733281', 'maze', 0.7480029), ('n03717622', 'manhole_cover', 0.07281277), ('n04355338', 'sundial', 0.030221142)]\n"
     ]
    }
   ],
   "source": [
    "img_path = 'images/crosswalk.jpg'\n",
    "img = image.load_img(img_path, target_size=(224, 224))\n",
    "x = image.img_to_array(img)\n",
    "x = np.expand_dims(x, axis=0)\n",
    "x = preprocess_input(x)\n",
    "\n",
    "preds = model.predict(x)\n",
    "print('Predicted:', decode_predictions(preds, top=3)[0])"
   ]
  },
  {
   "cell_type": "code",
   "execution_count": 66,
   "metadata": {
    "colab": {
     "base_uri": "https://localhost:8080/"
    },
    "executionInfo": {
     "elapsed": 1956,
     "status": "ok",
     "timestamp": 1684424833646,
     "user": {
      "displayName": "Karlie S.",
      "userId": "12983705592918383517"
     },
     "user_tz": 420
    },
    "id": "Qk9X4vA3gVng",
    "outputId": "8a8aca1c-b5dd-4b61-f5f5-b9801c6ea2ac"
   },
   "outputs": [
    {
     "name": "stdout",
     "output_type": "stream",
     "text": [
      "1/1 [==============================] - 0s 81ms/step\n",
      "Predicted: [('n06874185', 'traffic_light', 0.9994947), ('n03126707', 'crane', 0.0001888513), ('n04371774', 'swing', 0.00016358876)]\n"
     ]
    }
   ],
   "source": [
    "img_path = 'images/traffic_light.jpg'\n",
    "img = image.load_img(img_path, target_size=(224, 224))\n",
    "x = image.img_to_array(img)\n",
    "x = np.expand_dims(x, axis=0)\n",
    "x = preprocess_input(x)\n",
    "\n",
    "preds = model.predict(x)\n",
    "print('Predicted:', decode_predictions(preds, top=3)[0])"
   ]
  },
  {
   "cell_type": "code",
   "execution_count": 67,
   "metadata": {
    "colab": {
     "base_uri": "https://localhost:8080/"
    },
    "executionInfo": {
     "elapsed": 619,
     "status": "ok",
     "timestamp": 1684424848490,
     "user": {
      "displayName": "Karlie S.",
      "userId": "12983705592918383517"
     },
     "user_tz": 420
    },
    "id": "9vqRFGnNgVvB",
    "outputId": "f3b6b57a-9e3d-4571-e17e-8986da64141c"
   },
   "outputs": [
    {
     "name": "stdout",
     "output_type": "stream",
     "text": [
      "1/1 [==============================] - 0s 46ms/step\n",
      "Predicted: [('n02099712', 'Labrador_retriever', 0.7671822), ('n02099601', 'golden_retriever', 0.21572998), ('n02113799', 'standard_poodle', 0.005650355)]\n"
     ]
    }
   ],
   "source": [
    "img_path = 'images/dog.jpg'\n",
    "img = image.load_img(img_path, target_size=(224, 224))\n",
    "x = image.img_to_array(img)\n",
    "x = np.expand_dims(x, axis=0)\n",
    "x = preprocess_input(x)\n",
    "\n",
    "preds = model.predict(x)\n",
    "print('Predicted:', decode_predictions(preds, top=3)[0])"
   ]
  },
  {
   "cell_type": "code",
   "execution_count": 68,
   "metadata": {
    "colab": {
     "base_uri": "https://localhost:8080/"
    },
    "executionInfo": {
     "elapsed": 720,
     "status": "ok",
     "timestamp": 1684424857722,
     "user": {
      "displayName": "Karlie S.",
      "userId": "12983705592918383517"
     },
     "user_tz": 420
    },
    "id": "dsTQUBN8gV2U",
    "outputId": "e651f6eb-d822-4093-f043-bae4aa69d413"
   },
   "outputs": [
    {
     "name": "stdout",
     "output_type": "stream",
     "text": [
      "1/1 [==============================] - 0s 46ms/step\n",
      "Predicted: [('n02123394', 'Persian_cat', 0.9989759), ('n02123045', 'tabby', 0.0004516678), ('n02127052', 'lynx', 0.00016683698)]\n"
     ]
    }
   ],
   "source": [
    "img_path = 'images/cat.jpg'\n",
    "img = image.load_img(img_path, target_size=(224, 224))\n",
    "x = image.img_to_array(img)\n",
    "x = np.expand_dims(x, axis=0)\n",
    "x = preprocess_input(x)\n",
    "\n",
    "preds = model.predict(x)\n",
    "print('Predicted:', decode_predictions(preds, top=3)[0])"
   ]
  },
  {
   "cell_type": "code",
   "execution_count": 69,
   "metadata": {
    "colab": {
     "base_uri": "https://localhost:8080/"
    },
    "executionInfo": {
     "elapsed": 728,
     "status": "ok",
     "timestamp": 1684424870212,
     "user": {
      "displayName": "Karlie S.",
      "userId": "12983705592918383517"
     },
     "user_tz": 420
    },
    "id": "bdJCc3vogV95",
    "outputId": "bb40c712-76f7-4e14-936e-ebb007cc0a34"
   },
   "outputs": [
    {
     "name": "stdout",
     "output_type": "stream",
     "text": [
      "1/1 [==============================] - 0s 48ms/step\n",
      "Predicted: [('n01531178', 'goldfinch', 0.9966943), ('n01530575', 'brambling', 0.002008996), ('n01537544', 'indigo_bunting', 0.0003059842)]\n"
     ]
    }
   ],
   "source": [
    "img_path = 'images/bird.jpg'\n",
    "img = image.load_img(img_path, target_size=(224, 224))\n",
    "x = image.img_to_array(img)\n",
    "x = np.expand_dims(x, axis=0)\n",
    "x = preprocess_input(x)\n",
    "\n",
    "preds = model.predict(x)\n",
    "print('Predicted:', decode_predictions(preds, top=3)[0])"
   ]
  }
 ],
 "metadata": {
  "accelerator": "GPU",
  "colab": {
   "authorship_tag": "ABX9TyPc4KW5tT4/psF1LdfdKOu4",
   "gpuType": "T4",
   "provenance": []
  },
  "gpuClass": "standard",
  "kernelspec": {
   "display_name": "Python 3 (ipykernel)",
   "language": "python",
   "name": "python3"
  },
  "language_info": {
   "codemirror_mode": {
    "name": "ipython",
    "version": 3
   },
   "file_extension": ".py",
   "mimetype": "text/x-python",
   "name": "python",
   "nbconvert_exporter": "python",
   "pygments_lexer": "ipython3",
   "version": "3.9.7"
  }
 },
 "nbformat": 4,
 "nbformat_minor": 1
}
